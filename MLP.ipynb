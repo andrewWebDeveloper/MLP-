{
  "nbformat": 4,
  "nbformat_minor": 0,
  "metadata": {
    "colab": {
      "provenance": []
    },
    "kernelspec": {
      "name": "python3",
      "display_name": "Python 3"
    },
    "language_info": {
      "name": "python"
    }
  },
  "cells": [
    {
      "cell_type": "code",
      "source": [
        "import pandas as pd\n",
        "df_new = pd.read_excel('/content/new.xlsx')\n",
        "df_new.head()"
      ],
      "metadata": {
        "colab": {
          "base_uri": "https://localhost:8080/",
          "height": 206
        },
        "id": "CkIPNQVFYPAa",
        "outputId": "3623498e-1c30-4b03-cb87-5e058db9c46a"
      },
      "execution_count": 30,
      "outputs": [
        {
          "output_type": "execute_result",
          "data": {
            "text/plain": [
              "       N    P      K  Cu  Zn  fe  Mn   Ph   n1   p1   k1\n",
              "0   80.0  8.0  123.0   0   0   1   0  8.4  low  low  low\n",
              "1   85.0  8.0   86.0   0   0   1   0  8.2  low  low  low\n",
              "2  100.0  8.0  125.0   0   0   1   0  8.4  low  low  low\n",
              "3   90.0  7.0  185.0   0   0   1   0  8.9  low  low  low\n",
              "4   80.0  8.0  123.0   0   0   1   0  9.0  low  low  low"
            ],
            "text/html": [
              "\n",
              "  <div id=\"df-29f5c614-b204-47a6-92fe-023009437b25\">\n",
              "    <div class=\"colab-df-container\">\n",
              "      <div>\n",
              "<style scoped>\n",
              "    .dataframe tbody tr th:only-of-type {\n",
              "        vertical-align: middle;\n",
              "    }\n",
              "\n",
              "    .dataframe tbody tr th {\n",
              "        vertical-align: top;\n",
              "    }\n",
              "\n",
              "    .dataframe thead th {\n",
              "        text-align: right;\n",
              "    }\n",
              "</style>\n",
              "<table border=\"1\" class=\"dataframe\">\n",
              "  <thead>\n",
              "    <tr style=\"text-align: right;\">\n",
              "      <th></th>\n",
              "      <th>N</th>\n",
              "      <th>P</th>\n",
              "      <th>K</th>\n",
              "      <th>Cu</th>\n",
              "      <th>Zn</th>\n",
              "      <th>fe</th>\n",
              "      <th>Mn</th>\n",
              "      <th>Ph</th>\n",
              "      <th>n1</th>\n",
              "      <th>p1</th>\n",
              "      <th>k1</th>\n",
              "    </tr>\n",
              "  </thead>\n",
              "  <tbody>\n",
              "    <tr>\n",
              "      <th>0</th>\n",
              "      <td>80.0</td>\n",
              "      <td>8.0</td>\n",
              "      <td>123.0</td>\n",
              "      <td>0</td>\n",
              "      <td>0</td>\n",
              "      <td>1</td>\n",
              "      <td>0</td>\n",
              "      <td>8.4</td>\n",
              "      <td>low</td>\n",
              "      <td>low</td>\n",
              "      <td>low</td>\n",
              "    </tr>\n",
              "    <tr>\n",
              "      <th>1</th>\n",
              "      <td>85.0</td>\n",
              "      <td>8.0</td>\n",
              "      <td>86.0</td>\n",
              "      <td>0</td>\n",
              "      <td>0</td>\n",
              "      <td>1</td>\n",
              "      <td>0</td>\n",
              "      <td>8.2</td>\n",
              "      <td>low</td>\n",
              "      <td>low</td>\n",
              "      <td>low</td>\n",
              "    </tr>\n",
              "    <tr>\n",
              "      <th>2</th>\n",
              "      <td>100.0</td>\n",
              "      <td>8.0</td>\n",
              "      <td>125.0</td>\n",
              "      <td>0</td>\n",
              "      <td>0</td>\n",
              "      <td>1</td>\n",
              "      <td>0</td>\n",
              "      <td>8.4</td>\n",
              "      <td>low</td>\n",
              "      <td>low</td>\n",
              "      <td>low</td>\n",
              "    </tr>\n",
              "    <tr>\n",
              "      <th>3</th>\n",
              "      <td>90.0</td>\n",
              "      <td>7.0</td>\n",
              "      <td>185.0</td>\n",
              "      <td>0</td>\n",
              "      <td>0</td>\n",
              "      <td>1</td>\n",
              "      <td>0</td>\n",
              "      <td>8.9</td>\n",
              "      <td>low</td>\n",
              "      <td>low</td>\n",
              "      <td>low</td>\n",
              "    </tr>\n",
              "    <tr>\n",
              "      <th>4</th>\n",
              "      <td>80.0</td>\n",
              "      <td>8.0</td>\n",
              "      <td>123.0</td>\n",
              "      <td>0</td>\n",
              "      <td>0</td>\n",
              "      <td>1</td>\n",
              "      <td>0</td>\n",
              "      <td>9.0</td>\n",
              "      <td>low</td>\n",
              "      <td>low</td>\n",
              "      <td>low</td>\n",
              "    </tr>\n",
              "  </tbody>\n",
              "</table>\n",
              "</div>\n",
              "      <button class=\"colab-df-convert\" onclick=\"convertToInteractive('df-29f5c614-b204-47a6-92fe-023009437b25')\"\n",
              "              title=\"Convert this dataframe to an interactive table.\"\n",
              "              style=\"display:none;\">\n",
              "        \n",
              "  <svg xmlns=\"http://www.w3.org/2000/svg\" height=\"24px\"viewBox=\"0 0 24 24\"\n",
              "       width=\"24px\">\n",
              "    <path d=\"M0 0h24v24H0V0z\" fill=\"none\"/>\n",
              "    <path d=\"M18.56 5.44l.94 2.06.94-2.06 2.06-.94-2.06-.94-.94-2.06-.94 2.06-2.06.94zm-11 1L8.5 8.5l.94-2.06 2.06-.94-2.06-.94L8.5 2.5l-.94 2.06-2.06.94zm10 10l.94 2.06.94-2.06 2.06-.94-2.06-.94-.94-2.06-.94 2.06-2.06.94z\"/><path d=\"M17.41 7.96l-1.37-1.37c-.4-.4-.92-.59-1.43-.59-.52 0-1.04.2-1.43.59L10.3 9.45l-7.72 7.72c-.78.78-.78 2.05 0 2.83L4 21.41c.39.39.9.59 1.41.59.51 0 1.02-.2 1.41-.59l7.78-7.78 2.81-2.81c.8-.78.8-2.07 0-2.86zM5.41 20L4 18.59l7.72-7.72 1.47 1.35L5.41 20z\"/>\n",
              "  </svg>\n",
              "      </button>\n",
              "      \n",
              "  <style>\n",
              "    .colab-df-container {\n",
              "      display:flex;\n",
              "      flex-wrap:wrap;\n",
              "      gap: 12px;\n",
              "    }\n",
              "\n",
              "    .colab-df-convert {\n",
              "      background-color: #E8F0FE;\n",
              "      border: none;\n",
              "      border-radius: 50%;\n",
              "      cursor: pointer;\n",
              "      display: none;\n",
              "      fill: #1967D2;\n",
              "      height: 32px;\n",
              "      padding: 0 0 0 0;\n",
              "      width: 32px;\n",
              "    }\n",
              "\n",
              "    .colab-df-convert:hover {\n",
              "      background-color: #E2EBFA;\n",
              "      box-shadow: 0px 1px 2px rgba(60, 64, 67, 0.3), 0px 1px 3px 1px rgba(60, 64, 67, 0.15);\n",
              "      fill: #174EA6;\n",
              "    }\n",
              "\n",
              "    [theme=dark] .colab-df-convert {\n",
              "      background-color: #3B4455;\n",
              "      fill: #D2E3FC;\n",
              "    }\n",
              "\n",
              "    [theme=dark] .colab-df-convert:hover {\n",
              "      background-color: #434B5C;\n",
              "      box-shadow: 0px 1px 3px 1px rgba(0, 0, 0, 0.15);\n",
              "      filter: drop-shadow(0px 1px 2px rgba(0, 0, 0, 0.3));\n",
              "      fill: #FFFFFF;\n",
              "    }\n",
              "  </style>\n",
              "\n",
              "      <script>\n",
              "        const buttonEl =\n",
              "          document.querySelector('#df-29f5c614-b204-47a6-92fe-023009437b25 button.colab-df-convert');\n",
              "        buttonEl.style.display =\n",
              "          google.colab.kernel.accessAllowed ? 'block' : 'none';\n",
              "\n",
              "        async function convertToInteractive(key) {\n",
              "          const element = document.querySelector('#df-29f5c614-b204-47a6-92fe-023009437b25');\n",
              "          const dataTable =\n",
              "            await google.colab.kernel.invokeFunction('convertToInteractive',\n",
              "                                                     [key], {});\n",
              "          if (!dataTable) return;\n",
              "\n",
              "          const docLinkHtml = 'Like what you see? Visit the ' +\n",
              "            '<a target=\"_blank\" href=https://colab.research.google.com/notebooks/data_table.ipynb>data table notebook</a>'\n",
              "            + ' to learn more about interactive tables.';\n",
              "          element.innerHTML = '';\n",
              "          dataTable['output_type'] = 'display_data';\n",
              "          await google.colab.output.renderOutput(dataTable, element);\n",
              "          const docLink = document.createElement('div');\n",
              "          docLink.innerHTML = docLinkHtml;\n",
              "          element.appendChild(docLink);\n",
              "        }\n",
              "      </script>\n",
              "    </div>\n",
              "  </div>\n",
              "  "
            ]
          },
          "metadata": {},
          "execution_count": 30
        }
      ]
    },
    {
      "cell_type": "code",
      "source": [
        "df_new=df_new.dropna()"
      ],
      "metadata": {
        "id": "0ADHjXfJrSMZ"
      },
      "execution_count": 31,
      "outputs": []
    },
    {
      "cell_type": "code",
      "source": [
        "x = df_new.iloc[:,0:8] #independent variables\n",
        "y = df_new.iloc[:,8:11]\n",
        "print (x),print (y)"
      ],
      "metadata": {
        "colab": {
          "base_uri": "https://localhost:8080/"
        },
        "id": "PfS6kDPnul_d",
        "outputId": "e9d9bc37-7282-4a44-e00c-55d04bb61966"
      },
      "execution_count": 32,
      "outputs": [
        {
          "output_type": "stream",
          "name": "stdout",
          "text": [
            "         N     P      K  Cu  Zn  fe  Mn   Ph\n",
            "0     80.0   8.0  123.0   0   0   1   0  8.4\n",
            "1     85.0   8.0   86.0   0   0   1   0  8.2\n",
            "2    100.0   8.0  125.0   0   0   1   0  8.4\n",
            "3     90.0   7.0  185.0   0   0   1   0  8.9\n",
            "4     80.0   8.0  123.0   0   0   1   0  9.0\n",
            "..     ...   ...    ...  ..  ..  ..  ..  ...\n",
            "435  202.5  12.5  537.5   0   1   0   1  7.2\n",
            "436  202.5  15.0  557.5   0   1   0   1  7.2\n",
            "437  227.5  15.0  732.5   0   1   0   1  8.0\n",
            "438  280.0  12.5  700.0   0   1   0   1  8.6\n",
            "439  190.0  12.5  550.0   0   1   0   1  8.6\n",
            "\n",
            "[408 rows x 8 columns]\n",
            "      n1      p1      k1\n",
            "0    low     low     low\n",
            "1    low     low     low\n",
            "2    low     low     low\n",
            "3    low     low     low\n",
            "4    low     low     low\n",
            "..   ...     ...     ...\n",
            "435  low    high     low\n",
            "436  low    high     low\n",
            "437  low    high  medium\n",
            "438  low    high  medium\n",
            "439  low  medium     low\n",
            "\n",
            "[408 rows x 3 columns]\n"
          ]
        },
        {
          "output_type": "execute_result",
          "data": {
            "text/plain": [
              "(None, None)"
            ]
          },
          "metadata": {},
          "execution_count": 32
        }
      ]
    },
    {
      "cell_type": "code",
      "source": [
        "# Identify the features with the most importance for the outcome variable Heart Disease\n",
        "from sklearn.model_selection import train_test_split\n",
        "from sklearn.feature_selection import RFE\n",
        "from sklearn.ensemble import RandomForestClassifier\n",
        "# separate independent & dependent variables\n",
        "sel_fea = RFE(RandomForestClassifier(), n_features_to_select=3)\n",
        "sel_fea.fit(x, y)\n",
        "features_col = x.columns[(sel_fea.get_support())]\n",
        "print(features_col)"
      ],
      "metadata": {
        "id": "SLVTN9t3nnEI",
        "colab": {
          "base_uri": "https://localhost:8080/"
        },
        "outputId": "01524b63-30d1-4845-e063-a343e688c036"
      },
      "execution_count": 33,
      "outputs": [
        {
          "output_type": "stream",
          "name": "stdout",
          "text": [
            "Index(['N', 'P', 'K'], dtype='object')\n"
          ]
        }
      ]
    },
    {
      "cell_type": "code",
      "source": [
        "df_=df_new.iloc[:,0:3]\n",
        "df_"
      ],
      "metadata": {
        "id": "zuhJzqMd6qla",
        "colab": {
          "base_uri": "https://localhost:8080/",
          "height": 424
        },
        "outputId": "9468e93f-5d23-4363-b26c-7d5204c55a24"
      },
      "execution_count": 34,
      "outputs": [
        {
          "output_type": "execute_result",
          "data": {
            "text/plain": [
              "         N     P      K\n",
              "0     80.0   8.0  123.0\n",
              "1     85.0   8.0   86.0\n",
              "2    100.0   8.0  125.0\n",
              "3     90.0   7.0  185.0\n",
              "4     80.0   8.0  123.0\n",
              "..     ...   ...    ...\n",
              "435  202.5  12.5  537.5\n",
              "436  202.5  15.0  557.5\n",
              "437  227.5  15.0  732.5\n",
              "438  280.0  12.5  700.0\n",
              "439  190.0  12.5  550.0\n",
              "\n",
              "[408 rows x 3 columns]"
            ],
            "text/html": [
              "\n",
              "  <div id=\"df-09a14182-1de9-4f77-becb-9553610624e2\">\n",
              "    <div class=\"colab-df-container\">\n",
              "      <div>\n",
              "<style scoped>\n",
              "    .dataframe tbody tr th:only-of-type {\n",
              "        vertical-align: middle;\n",
              "    }\n",
              "\n",
              "    .dataframe tbody tr th {\n",
              "        vertical-align: top;\n",
              "    }\n",
              "\n",
              "    .dataframe thead th {\n",
              "        text-align: right;\n",
              "    }\n",
              "</style>\n",
              "<table border=\"1\" class=\"dataframe\">\n",
              "  <thead>\n",
              "    <tr style=\"text-align: right;\">\n",
              "      <th></th>\n",
              "      <th>N</th>\n",
              "      <th>P</th>\n",
              "      <th>K</th>\n",
              "    </tr>\n",
              "  </thead>\n",
              "  <tbody>\n",
              "    <tr>\n",
              "      <th>0</th>\n",
              "      <td>80.0</td>\n",
              "      <td>8.0</td>\n",
              "      <td>123.0</td>\n",
              "    </tr>\n",
              "    <tr>\n",
              "      <th>1</th>\n",
              "      <td>85.0</td>\n",
              "      <td>8.0</td>\n",
              "      <td>86.0</td>\n",
              "    </tr>\n",
              "    <tr>\n",
              "      <th>2</th>\n",
              "      <td>100.0</td>\n",
              "      <td>8.0</td>\n",
              "      <td>125.0</td>\n",
              "    </tr>\n",
              "    <tr>\n",
              "      <th>3</th>\n",
              "      <td>90.0</td>\n",
              "      <td>7.0</td>\n",
              "      <td>185.0</td>\n",
              "    </tr>\n",
              "    <tr>\n",
              "      <th>4</th>\n",
              "      <td>80.0</td>\n",
              "      <td>8.0</td>\n",
              "      <td>123.0</td>\n",
              "    </tr>\n",
              "    <tr>\n",
              "      <th>...</th>\n",
              "      <td>...</td>\n",
              "      <td>...</td>\n",
              "      <td>...</td>\n",
              "    </tr>\n",
              "    <tr>\n",
              "      <th>435</th>\n",
              "      <td>202.5</td>\n",
              "      <td>12.5</td>\n",
              "      <td>537.5</td>\n",
              "    </tr>\n",
              "    <tr>\n",
              "      <th>436</th>\n",
              "      <td>202.5</td>\n",
              "      <td>15.0</td>\n",
              "      <td>557.5</td>\n",
              "    </tr>\n",
              "    <tr>\n",
              "      <th>437</th>\n",
              "      <td>227.5</td>\n",
              "      <td>15.0</td>\n",
              "      <td>732.5</td>\n",
              "    </tr>\n",
              "    <tr>\n",
              "      <th>438</th>\n",
              "      <td>280.0</td>\n",
              "      <td>12.5</td>\n",
              "      <td>700.0</td>\n",
              "    </tr>\n",
              "    <tr>\n",
              "      <th>439</th>\n",
              "      <td>190.0</td>\n",
              "      <td>12.5</td>\n",
              "      <td>550.0</td>\n",
              "    </tr>\n",
              "  </tbody>\n",
              "</table>\n",
              "<p>408 rows × 3 columns</p>\n",
              "</div>\n",
              "      <button class=\"colab-df-convert\" onclick=\"convertToInteractive('df-09a14182-1de9-4f77-becb-9553610624e2')\"\n",
              "              title=\"Convert this dataframe to an interactive table.\"\n",
              "              style=\"display:none;\">\n",
              "        \n",
              "  <svg xmlns=\"http://www.w3.org/2000/svg\" height=\"24px\"viewBox=\"0 0 24 24\"\n",
              "       width=\"24px\">\n",
              "    <path d=\"M0 0h24v24H0V0z\" fill=\"none\"/>\n",
              "    <path d=\"M18.56 5.44l.94 2.06.94-2.06 2.06-.94-2.06-.94-.94-2.06-.94 2.06-2.06.94zm-11 1L8.5 8.5l.94-2.06 2.06-.94-2.06-.94L8.5 2.5l-.94 2.06-2.06.94zm10 10l.94 2.06.94-2.06 2.06-.94-2.06-.94-.94-2.06-.94 2.06-2.06.94z\"/><path d=\"M17.41 7.96l-1.37-1.37c-.4-.4-.92-.59-1.43-.59-.52 0-1.04.2-1.43.59L10.3 9.45l-7.72 7.72c-.78.78-.78 2.05 0 2.83L4 21.41c.39.39.9.59 1.41.59.51 0 1.02-.2 1.41-.59l7.78-7.78 2.81-2.81c.8-.78.8-2.07 0-2.86zM5.41 20L4 18.59l7.72-7.72 1.47 1.35L5.41 20z\"/>\n",
              "  </svg>\n",
              "      </button>\n",
              "      \n",
              "  <style>\n",
              "    .colab-df-container {\n",
              "      display:flex;\n",
              "      flex-wrap:wrap;\n",
              "      gap: 12px;\n",
              "    }\n",
              "\n",
              "    .colab-df-convert {\n",
              "      background-color: #E8F0FE;\n",
              "      border: none;\n",
              "      border-radius: 50%;\n",
              "      cursor: pointer;\n",
              "      display: none;\n",
              "      fill: #1967D2;\n",
              "      height: 32px;\n",
              "      padding: 0 0 0 0;\n",
              "      width: 32px;\n",
              "    }\n",
              "\n",
              "    .colab-df-convert:hover {\n",
              "      background-color: #E2EBFA;\n",
              "      box-shadow: 0px 1px 2px rgba(60, 64, 67, 0.3), 0px 1px 3px 1px rgba(60, 64, 67, 0.15);\n",
              "      fill: #174EA6;\n",
              "    }\n",
              "\n",
              "    [theme=dark] .colab-df-convert {\n",
              "      background-color: #3B4455;\n",
              "      fill: #D2E3FC;\n",
              "    }\n",
              "\n",
              "    [theme=dark] .colab-df-convert:hover {\n",
              "      background-color: #434B5C;\n",
              "      box-shadow: 0px 1px 3px 1px rgba(0, 0, 0, 0.15);\n",
              "      filter: drop-shadow(0px 1px 2px rgba(0, 0, 0, 0.3));\n",
              "      fill: #FFFFFF;\n",
              "    }\n",
              "  </style>\n",
              "\n",
              "      <script>\n",
              "        const buttonEl =\n",
              "          document.querySelector('#df-09a14182-1de9-4f77-becb-9553610624e2 button.colab-df-convert');\n",
              "        buttonEl.style.display =\n",
              "          google.colab.kernel.accessAllowed ? 'block' : 'none';\n",
              "\n",
              "        async function convertToInteractive(key) {\n",
              "          const element = document.querySelector('#df-09a14182-1de9-4f77-becb-9553610624e2');\n",
              "          const dataTable =\n",
              "            await google.colab.kernel.invokeFunction('convertToInteractive',\n",
              "                                                     [key], {});\n",
              "          if (!dataTable) return;\n",
              "\n",
              "          const docLinkHtml = 'Like what you see? Visit the ' +\n",
              "            '<a target=\"_blank\" href=https://colab.research.google.com/notebooks/data_table.ipynb>data table notebook</a>'\n",
              "            + ' to learn more about interactive tables.';\n",
              "          element.innerHTML = '';\n",
              "          dataTable['output_type'] = 'display_data';\n",
              "          await google.colab.output.renderOutput(dataTable, element);\n",
              "          const docLink = document.createElement('div');\n",
              "          docLink.innerHTML = docLinkHtml;\n",
              "          element.appendChild(docLink);\n",
              "        }\n",
              "      </script>\n",
              "    </div>\n",
              "  </div>\n",
              "  "
            ]
          },
          "metadata": {},
          "execution_count": 34
        }
      ]
    },
    {
      "cell_type": "code",
      "source": [
        "df_.loc[df_[\"N\"] < 130,\"n1\"]=\"Low\"\n",
        "\n",
        "df_.loc[(df_[\"N\"]) >= 130,\"n1\"]=\"Medium\"\n",
        "\n",
        "df_.loc[(df_[\"N\"]) > 200,\"n1\"]=\"High\"\n",
        "\n",
        "\n",
        "df_.loc[df_[\"P\"] < 16,\"p1\"]=\"Low\"\n",
        "\n",
        "df_.loc[(df_[\"P\"]) >= 16,\"p1\"]=\"Medium\"\n",
        "\n",
        "df_.loc[(df_[\"P\"]) > 30,\"p1\"]=\"High\"\n",
        "\n",
        "\n",
        "df_.loc[df_[\"K\"] < 450,\"k1\"]=\"Low\"\n",
        "\n",
        "df_.loc[(df_[\"K\"]) >= 450,\"k1\"]=\"Medium\"\n",
        "\n",
        "df_.loc[(df_[\"K\"]) > 1000,\"k1\"]=\"High\"\n",
        "\n",
        "\n",
        "df=df_"
      ],
      "metadata": {
        "id": "xqcvoN8y-AS8"
      },
      "execution_count": 35,
      "outputs": []
    },
    {
      "cell_type": "code",
      "source": [
        "df.head()"
      ],
      "metadata": {
        "colab": {
          "base_uri": "https://localhost:8080/",
          "height": 206
        },
        "id": "4peDnOdNSsdH",
        "outputId": "38c4e1e8-8714-4e98-aed5-5d28eaba5e4a"
      },
      "execution_count": 36,
      "outputs": [
        {
          "output_type": "execute_result",
          "data": {
            "text/plain": [
              "       N    P      K   n1   p1   k1\n",
              "0   80.0  8.0  123.0  Low  Low  Low\n",
              "1   85.0  8.0   86.0  Low  Low  Low\n",
              "2  100.0  8.0  125.0  Low  Low  Low\n",
              "3   90.0  7.0  185.0  Low  Low  Low\n",
              "4   80.0  8.0  123.0  Low  Low  Low"
            ],
            "text/html": [
              "\n",
              "  <div id=\"df-e60ae699-4665-4fa6-b7b9-2014d2faaa32\">\n",
              "    <div class=\"colab-df-container\">\n",
              "      <div>\n",
              "<style scoped>\n",
              "    .dataframe tbody tr th:only-of-type {\n",
              "        vertical-align: middle;\n",
              "    }\n",
              "\n",
              "    .dataframe tbody tr th {\n",
              "        vertical-align: top;\n",
              "    }\n",
              "\n",
              "    .dataframe thead th {\n",
              "        text-align: right;\n",
              "    }\n",
              "</style>\n",
              "<table border=\"1\" class=\"dataframe\">\n",
              "  <thead>\n",
              "    <tr style=\"text-align: right;\">\n",
              "      <th></th>\n",
              "      <th>N</th>\n",
              "      <th>P</th>\n",
              "      <th>K</th>\n",
              "      <th>n1</th>\n",
              "      <th>p1</th>\n",
              "      <th>k1</th>\n",
              "    </tr>\n",
              "  </thead>\n",
              "  <tbody>\n",
              "    <tr>\n",
              "      <th>0</th>\n",
              "      <td>80.0</td>\n",
              "      <td>8.0</td>\n",
              "      <td>123.0</td>\n",
              "      <td>Low</td>\n",
              "      <td>Low</td>\n",
              "      <td>Low</td>\n",
              "    </tr>\n",
              "    <tr>\n",
              "      <th>1</th>\n",
              "      <td>85.0</td>\n",
              "      <td>8.0</td>\n",
              "      <td>86.0</td>\n",
              "      <td>Low</td>\n",
              "      <td>Low</td>\n",
              "      <td>Low</td>\n",
              "    </tr>\n",
              "    <tr>\n",
              "      <th>2</th>\n",
              "      <td>100.0</td>\n",
              "      <td>8.0</td>\n",
              "      <td>125.0</td>\n",
              "      <td>Low</td>\n",
              "      <td>Low</td>\n",
              "      <td>Low</td>\n",
              "    </tr>\n",
              "    <tr>\n",
              "      <th>3</th>\n",
              "      <td>90.0</td>\n",
              "      <td>7.0</td>\n",
              "      <td>185.0</td>\n",
              "      <td>Low</td>\n",
              "      <td>Low</td>\n",
              "      <td>Low</td>\n",
              "    </tr>\n",
              "    <tr>\n",
              "      <th>4</th>\n",
              "      <td>80.0</td>\n",
              "      <td>8.0</td>\n",
              "      <td>123.0</td>\n",
              "      <td>Low</td>\n",
              "      <td>Low</td>\n",
              "      <td>Low</td>\n",
              "    </tr>\n",
              "  </tbody>\n",
              "</table>\n",
              "</div>\n",
              "      <button class=\"colab-df-convert\" onclick=\"convertToInteractive('df-e60ae699-4665-4fa6-b7b9-2014d2faaa32')\"\n",
              "              title=\"Convert this dataframe to an interactive table.\"\n",
              "              style=\"display:none;\">\n",
              "        \n",
              "  <svg xmlns=\"http://www.w3.org/2000/svg\" height=\"24px\"viewBox=\"0 0 24 24\"\n",
              "       width=\"24px\">\n",
              "    <path d=\"M0 0h24v24H0V0z\" fill=\"none\"/>\n",
              "    <path d=\"M18.56 5.44l.94 2.06.94-2.06 2.06-.94-2.06-.94-.94-2.06-.94 2.06-2.06.94zm-11 1L8.5 8.5l.94-2.06 2.06-.94-2.06-.94L8.5 2.5l-.94 2.06-2.06.94zm10 10l.94 2.06.94-2.06 2.06-.94-2.06-.94-.94-2.06-.94 2.06-2.06.94z\"/><path d=\"M17.41 7.96l-1.37-1.37c-.4-.4-.92-.59-1.43-.59-.52 0-1.04.2-1.43.59L10.3 9.45l-7.72 7.72c-.78.78-.78 2.05 0 2.83L4 21.41c.39.39.9.59 1.41.59.51 0 1.02-.2 1.41-.59l7.78-7.78 2.81-2.81c.8-.78.8-2.07 0-2.86zM5.41 20L4 18.59l7.72-7.72 1.47 1.35L5.41 20z\"/>\n",
              "  </svg>\n",
              "      </button>\n",
              "      \n",
              "  <style>\n",
              "    .colab-df-container {\n",
              "      display:flex;\n",
              "      flex-wrap:wrap;\n",
              "      gap: 12px;\n",
              "    }\n",
              "\n",
              "    .colab-df-convert {\n",
              "      background-color: #E8F0FE;\n",
              "      border: none;\n",
              "      border-radius: 50%;\n",
              "      cursor: pointer;\n",
              "      display: none;\n",
              "      fill: #1967D2;\n",
              "      height: 32px;\n",
              "      padding: 0 0 0 0;\n",
              "      width: 32px;\n",
              "    }\n",
              "\n",
              "    .colab-df-convert:hover {\n",
              "      background-color: #E2EBFA;\n",
              "      box-shadow: 0px 1px 2px rgba(60, 64, 67, 0.3), 0px 1px 3px 1px rgba(60, 64, 67, 0.15);\n",
              "      fill: #174EA6;\n",
              "    }\n",
              "\n",
              "    [theme=dark] .colab-df-convert {\n",
              "      background-color: #3B4455;\n",
              "      fill: #D2E3FC;\n",
              "    }\n",
              "\n",
              "    [theme=dark] .colab-df-convert:hover {\n",
              "      background-color: #434B5C;\n",
              "      box-shadow: 0px 1px 3px 1px rgba(0, 0, 0, 0.15);\n",
              "      filter: drop-shadow(0px 1px 2px rgba(0, 0, 0, 0.3));\n",
              "      fill: #FFFFFF;\n",
              "    }\n",
              "  </style>\n",
              "\n",
              "      <script>\n",
              "        const buttonEl =\n",
              "          document.querySelector('#df-e60ae699-4665-4fa6-b7b9-2014d2faaa32 button.colab-df-convert');\n",
              "        buttonEl.style.display =\n",
              "          google.colab.kernel.accessAllowed ? 'block' : 'none';\n",
              "\n",
              "        async function convertToInteractive(key) {\n",
              "          const element = document.querySelector('#df-e60ae699-4665-4fa6-b7b9-2014d2faaa32');\n",
              "          const dataTable =\n",
              "            await google.colab.kernel.invokeFunction('convertToInteractive',\n",
              "                                                     [key], {});\n",
              "          if (!dataTable) return;\n",
              "\n",
              "          const docLinkHtml = 'Like what you see? Visit the ' +\n",
              "            '<a target=\"_blank\" href=https://colab.research.google.com/notebooks/data_table.ipynb>data table notebook</a>'\n",
              "            + ' to learn more about interactive tables.';\n",
              "          element.innerHTML = '';\n",
              "          dataTable['output_type'] = 'display_data';\n",
              "          await google.colab.output.renderOutput(dataTable, element);\n",
              "          const docLink = document.createElement('div');\n",
              "          docLink.innerHTML = docLinkHtml;\n",
              "          element.appendChild(docLink);\n",
              "        }\n",
              "      </script>\n",
              "    </div>\n",
              "  </div>\n",
              "  "
            ]
          },
          "metadata": {},
          "execution_count": 36
        }
      ]
    },
    {
      "cell_type": "code",
      "execution_count": 37,
      "metadata": {
        "colab": {
          "base_uri": "https://localhost:8080/",
          "height": 426
        },
        "id": "Lpxm8ZRDA1E2",
        "outputId": "481194b4-1e3f-4aaa-ee85-7a7aa97eeea4"
      },
      "outputs": [
        {
          "output_type": "execute_result",
          "data": {
            "text/plain": [
              "    crop_id              varities    N   P    K   n1   p1   k1\n",
              "0         1        other varities  110  35  300  Low  Low  Low\n",
              "1         2               Nendran  150  90  300  Low  Low  Low\n",
              "2         3               nendran  210  35  450  Low  Low  Low\n",
              "3         4             Rasathali  210  50  390  Low  Low  Low\n",
              "4         5                Poovan  160  50  390  Low  Low  Low\n",
              "5         6                  Rice  120  40   40  Low  Low  Low\n",
              "6         7           hybrid rice  175  60   60  Low  Low  Low\n",
              "7         8  improved white ponni   75  50   50  Low  Low  Low\n",
              "8         9      Ragi (Irrigated)   90  45   45  Low  Low  Low\n",
              "9        10         Ragi(rainfed)   40  20   20  Low  Low  Low\n",
              "10       11       maize irrigated  135  63   50  Low  Low  Low\n",
              "11       12         maize rainfed   60  30   30  Low  Low  Low"
            ],
            "text/html": [
              "\n",
              "  <div id=\"df-c2d6c5fb-9b02-4b7c-8887-87d04b64f94b\">\n",
              "    <div class=\"colab-df-container\">\n",
              "      <div>\n",
              "<style scoped>\n",
              "    .dataframe tbody tr th:only-of-type {\n",
              "        vertical-align: middle;\n",
              "    }\n",
              "\n",
              "    .dataframe tbody tr th {\n",
              "        vertical-align: top;\n",
              "    }\n",
              "\n",
              "    .dataframe thead th {\n",
              "        text-align: right;\n",
              "    }\n",
              "</style>\n",
              "<table border=\"1\" class=\"dataframe\">\n",
              "  <thead>\n",
              "    <tr style=\"text-align: right;\">\n",
              "      <th></th>\n",
              "      <th>crop_id</th>\n",
              "      <th>varities</th>\n",
              "      <th>N</th>\n",
              "      <th>P</th>\n",
              "      <th>K</th>\n",
              "      <th>n1</th>\n",
              "      <th>p1</th>\n",
              "      <th>k1</th>\n",
              "    </tr>\n",
              "  </thead>\n",
              "  <tbody>\n",
              "    <tr>\n",
              "      <th>0</th>\n",
              "      <td>1</td>\n",
              "      <td>other varities</td>\n",
              "      <td>110</td>\n",
              "      <td>35</td>\n",
              "      <td>300</td>\n",
              "      <td>Low</td>\n",
              "      <td>Low</td>\n",
              "      <td>Low</td>\n",
              "    </tr>\n",
              "    <tr>\n",
              "      <th>1</th>\n",
              "      <td>2</td>\n",
              "      <td>Nendran</td>\n",
              "      <td>150</td>\n",
              "      <td>90</td>\n",
              "      <td>300</td>\n",
              "      <td>Low</td>\n",
              "      <td>Low</td>\n",
              "      <td>Low</td>\n",
              "    </tr>\n",
              "    <tr>\n",
              "      <th>2</th>\n",
              "      <td>3</td>\n",
              "      <td>nendran</td>\n",
              "      <td>210</td>\n",
              "      <td>35</td>\n",
              "      <td>450</td>\n",
              "      <td>Low</td>\n",
              "      <td>Low</td>\n",
              "      <td>Low</td>\n",
              "    </tr>\n",
              "    <tr>\n",
              "      <th>3</th>\n",
              "      <td>4</td>\n",
              "      <td>Rasathali</td>\n",
              "      <td>210</td>\n",
              "      <td>50</td>\n",
              "      <td>390</td>\n",
              "      <td>Low</td>\n",
              "      <td>Low</td>\n",
              "      <td>Low</td>\n",
              "    </tr>\n",
              "    <tr>\n",
              "      <th>4</th>\n",
              "      <td>5</td>\n",
              "      <td>Poovan</td>\n",
              "      <td>160</td>\n",
              "      <td>50</td>\n",
              "      <td>390</td>\n",
              "      <td>Low</td>\n",
              "      <td>Low</td>\n",
              "      <td>Low</td>\n",
              "    </tr>\n",
              "    <tr>\n",
              "      <th>5</th>\n",
              "      <td>6</td>\n",
              "      <td>Rice</td>\n",
              "      <td>120</td>\n",
              "      <td>40</td>\n",
              "      <td>40</td>\n",
              "      <td>Low</td>\n",
              "      <td>Low</td>\n",
              "      <td>Low</td>\n",
              "    </tr>\n",
              "    <tr>\n",
              "      <th>6</th>\n",
              "      <td>7</td>\n",
              "      <td>hybrid rice</td>\n",
              "      <td>175</td>\n",
              "      <td>60</td>\n",
              "      <td>60</td>\n",
              "      <td>Low</td>\n",
              "      <td>Low</td>\n",
              "      <td>Low</td>\n",
              "    </tr>\n",
              "    <tr>\n",
              "      <th>7</th>\n",
              "      <td>8</td>\n",
              "      <td>improved white ponni</td>\n",
              "      <td>75</td>\n",
              "      <td>50</td>\n",
              "      <td>50</td>\n",
              "      <td>Low</td>\n",
              "      <td>Low</td>\n",
              "      <td>Low</td>\n",
              "    </tr>\n",
              "    <tr>\n",
              "      <th>8</th>\n",
              "      <td>9</td>\n",
              "      <td>Ragi (Irrigated)</td>\n",
              "      <td>90</td>\n",
              "      <td>45</td>\n",
              "      <td>45</td>\n",
              "      <td>Low</td>\n",
              "      <td>Low</td>\n",
              "      <td>Low</td>\n",
              "    </tr>\n",
              "    <tr>\n",
              "      <th>9</th>\n",
              "      <td>10</td>\n",
              "      <td>Ragi(rainfed)</td>\n",
              "      <td>40</td>\n",
              "      <td>20</td>\n",
              "      <td>20</td>\n",
              "      <td>Low</td>\n",
              "      <td>Low</td>\n",
              "      <td>Low</td>\n",
              "    </tr>\n",
              "    <tr>\n",
              "      <th>10</th>\n",
              "      <td>11</td>\n",
              "      <td>maize irrigated</td>\n",
              "      <td>135</td>\n",
              "      <td>63</td>\n",
              "      <td>50</td>\n",
              "      <td>Low</td>\n",
              "      <td>Low</td>\n",
              "      <td>Low</td>\n",
              "    </tr>\n",
              "    <tr>\n",
              "      <th>11</th>\n",
              "      <td>12</td>\n",
              "      <td>maize rainfed</td>\n",
              "      <td>60</td>\n",
              "      <td>30</td>\n",
              "      <td>30</td>\n",
              "      <td>Low</td>\n",
              "      <td>Low</td>\n",
              "      <td>Low</td>\n",
              "    </tr>\n",
              "  </tbody>\n",
              "</table>\n",
              "</div>\n",
              "      <button class=\"colab-df-convert\" onclick=\"convertToInteractive('df-c2d6c5fb-9b02-4b7c-8887-87d04b64f94b')\"\n",
              "              title=\"Convert this dataframe to an interactive table.\"\n",
              "              style=\"display:none;\">\n",
              "        \n",
              "  <svg xmlns=\"http://www.w3.org/2000/svg\" height=\"24px\"viewBox=\"0 0 24 24\"\n",
              "       width=\"24px\">\n",
              "    <path d=\"M0 0h24v24H0V0z\" fill=\"none\"/>\n",
              "    <path d=\"M18.56 5.44l.94 2.06.94-2.06 2.06-.94-2.06-.94-.94-2.06-.94 2.06-2.06.94zm-11 1L8.5 8.5l.94-2.06 2.06-.94-2.06-.94L8.5 2.5l-.94 2.06-2.06.94zm10 10l.94 2.06.94-2.06 2.06-.94-2.06-.94-.94-2.06-.94 2.06-2.06.94z\"/><path d=\"M17.41 7.96l-1.37-1.37c-.4-.4-.92-.59-1.43-.59-.52 0-1.04.2-1.43.59L10.3 9.45l-7.72 7.72c-.78.78-.78 2.05 0 2.83L4 21.41c.39.39.9.59 1.41.59.51 0 1.02-.2 1.41-.59l7.78-7.78 2.81-2.81c.8-.78.8-2.07 0-2.86zM5.41 20L4 18.59l7.72-7.72 1.47 1.35L5.41 20z\"/>\n",
              "  </svg>\n",
              "      </button>\n",
              "      \n",
              "  <style>\n",
              "    .colab-df-container {\n",
              "      display:flex;\n",
              "      flex-wrap:wrap;\n",
              "      gap: 12px;\n",
              "    }\n",
              "\n",
              "    .colab-df-convert {\n",
              "      background-color: #E8F0FE;\n",
              "      border: none;\n",
              "      border-radius: 50%;\n",
              "      cursor: pointer;\n",
              "      display: none;\n",
              "      fill: #1967D2;\n",
              "      height: 32px;\n",
              "      padding: 0 0 0 0;\n",
              "      width: 32px;\n",
              "    }\n",
              "\n",
              "    .colab-df-convert:hover {\n",
              "      background-color: #E2EBFA;\n",
              "      box-shadow: 0px 1px 2px rgba(60, 64, 67, 0.3), 0px 1px 3px 1px rgba(60, 64, 67, 0.15);\n",
              "      fill: #174EA6;\n",
              "    }\n",
              "\n",
              "    [theme=dark] .colab-df-convert {\n",
              "      background-color: #3B4455;\n",
              "      fill: #D2E3FC;\n",
              "    }\n",
              "\n",
              "    [theme=dark] .colab-df-convert:hover {\n",
              "      background-color: #434B5C;\n",
              "      box-shadow: 0px 1px 3px 1px rgba(0, 0, 0, 0.15);\n",
              "      filter: drop-shadow(0px 1px 2px rgba(0, 0, 0, 0.3));\n",
              "      fill: #FFFFFF;\n",
              "    }\n",
              "  </style>\n",
              "\n",
              "      <script>\n",
              "        const buttonEl =\n",
              "          document.querySelector('#df-c2d6c5fb-9b02-4b7c-8887-87d04b64f94b button.colab-df-convert');\n",
              "        buttonEl.style.display =\n",
              "          google.colab.kernel.accessAllowed ? 'block' : 'none';\n",
              "\n",
              "        async function convertToInteractive(key) {\n",
              "          const element = document.querySelector('#df-c2d6c5fb-9b02-4b7c-8887-87d04b64f94b');\n",
              "          const dataTable =\n",
              "            await google.colab.kernel.invokeFunction('convertToInteractive',\n",
              "                                                     [key], {});\n",
              "          if (!dataTable) return;\n",
              "\n",
              "          const docLinkHtml = 'Like what you see? Visit the ' +\n",
              "            '<a target=\"_blank\" href=https://colab.research.google.com/notebooks/data_table.ipynb>data table notebook</a>'\n",
              "            + ' to learn more about interactive tables.';\n",
              "          element.innerHTML = '';\n",
              "          dataTable['output_type'] = 'display_data';\n",
              "          await google.colab.output.renderOutput(dataTable, element);\n",
              "          const docLink = document.createElement('div');\n",
              "          docLink.innerHTML = docLinkHtml;\n",
              "          element.appendChild(docLink);\n",
              "        }\n",
              "      </script>\n",
              "    </div>\n",
              "  </div>\n",
              "  "
            ]
          },
          "metadata": {},
          "execution_count": 37
        }
      ],
      "source": [
        "import pandas as pd\n",
        "#df = pd.read_excel('new_data1.xlsx')\n",
        "df1 = pd.read_csv('crops.csv')\n",
        "#df.head()\n",
        "df1.loc[df_[\"N\"] < 130,\"n1\"]=\"Low\"\n",
        "\n",
        "df1.loc[(df_[\"N\"]) >= 130,\"n1\"]=\"Medium\"\n",
        "\n",
        "df1.loc[(df_[\"N\"]) > 200,\"n1\"]=\"High\"\n",
        "\n",
        "\n",
        "df1.loc[df_[\"P\"] < 16,\"p1\"]=\"Low\"\n",
        "\n",
        "df1.loc[(df_[\"P\"]) >= 16,\"p1\"]=\"Medium\"\n",
        "\n",
        "df1.loc[(df_[\"P\"]) > 30,\"p1\"]=\"High\"\n",
        "\n",
        "\n",
        "df1.loc[df_[\"K\"] < 450,\"k1\"]=\"Low\"\n",
        "\n",
        "df1.loc[(df_[\"K\"]) >= 450,\"k1\"]=\"Medium\"\n",
        "\n",
        "df1.loc[(df_[\"K\"]) > 1000,\"k1\"]=\"High\"\n",
        "\n",
        "output_data=df1.loc[:,['n1','p1','k1']]\n",
        "\n",
        "out_column=df1.loc[:,['varities']]\n",
        "\n",
        "df1"
      ]
    },
    {
      "cell_type": "code",
      "source": [
        "df1.head()"
      ],
      "metadata": {
        "id": "ywA_nJlCU9sd",
        "colab": {
          "base_uri": "https://localhost:8080/",
          "height": 206
        },
        "outputId": "2eeb1c49-5469-4b43-f927-de5ba4510c64"
      },
      "execution_count": 38,
      "outputs": [
        {
          "output_type": "execute_result",
          "data": {
            "text/plain": [
              "   crop_id        varities    N   P    K   n1   p1   k1\n",
              "0        1  other varities  110  35  300  Low  Low  Low\n",
              "1        2         Nendran  150  90  300  Low  Low  Low\n",
              "2        3         nendran  210  35  450  Low  Low  Low\n",
              "3        4       Rasathali  210  50  390  Low  Low  Low\n",
              "4        5          Poovan  160  50  390  Low  Low  Low"
            ],
            "text/html": [
              "\n",
              "  <div id=\"df-18c15e6d-2f55-482d-9a92-b9de4df38180\">\n",
              "    <div class=\"colab-df-container\">\n",
              "      <div>\n",
              "<style scoped>\n",
              "    .dataframe tbody tr th:only-of-type {\n",
              "        vertical-align: middle;\n",
              "    }\n",
              "\n",
              "    .dataframe tbody tr th {\n",
              "        vertical-align: top;\n",
              "    }\n",
              "\n",
              "    .dataframe thead th {\n",
              "        text-align: right;\n",
              "    }\n",
              "</style>\n",
              "<table border=\"1\" class=\"dataframe\">\n",
              "  <thead>\n",
              "    <tr style=\"text-align: right;\">\n",
              "      <th></th>\n",
              "      <th>crop_id</th>\n",
              "      <th>varities</th>\n",
              "      <th>N</th>\n",
              "      <th>P</th>\n",
              "      <th>K</th>\n",
              "      <th>n1</th>\n",
              "      <th>p1</th>\n",
              "      <th>k1</th>\n",
              "    </tr>\n",
              "  </thead>\n",
              "  <tbody>\n",
              "    <tr>\n",
              "      <th>0</th>\n",
              "      <td>1</td>\n",
              "      <td>other varities</td>\n",
              "      <td>110</td>\n",
              "      <td>35</td>\n",
              "      <td>300</td>\n",
              "      <td>Low</td>\n",
              "      <td>Low</td>\n",
              "      <td>Low</td>\n",
              "    </tr>\n",
              "    <tr>\n",
              "      <th>1</th>\n",
              "      <td>2</td>\n",
              "      <td>Nendran</td>\n",
              "      <td>150</td>\n",
              "      <td>90</td>\n",
              "      <td>300</td>\n",
              "      <td>Low</td>\n",
              "      <td>Low</td>\n",
              "      <td>Low</td>\n",
              "    </tr>\n",
              "    <tr>\n",
              "      <th>2</th>\n",
              "      <td>3</td>\n",
              "      <td>nendran</td>\n",
              "      <td>210</td>\n",
              "      <td>35</td>\n",
              "      <td>450</td>\n",
              "      <td>Low</td>\n",
              "      <td>Low</td>\n",
              "      <td>Low</td>\n",
              "    </tr>\n",
              "    <tr>\n",
              "      <th>3</th>\n",
              "      <td>4</td>\n",
              "      <td>Rasathali</td>\n",
              "      <td>210</td>\n",
              "      <td>50</td>\n",
              "      <td>390</td>\n",
              "      <td>Low</td>\n",
              "      <td>Low</td>\n",
              "      <td>Low</td>\n",
              "    </tr>\n",
              "    <tr>\n",
              "      <th>4</th>\n",
              "      <td>5</td>\n",
              "      <td>Poovan</td>\n",
              "      <td>160</td>\n",
              "      <td>50</td>\n",
              "      <td>390</td>\n",
              "      <td>Low</td>\n",
              "      <td>Low</td>\n",
              "      <td>Low</td>\n",
              "    </tr>\n",
              "  </tbody>\n",
              "</table>\n",
              "</div>\n",
              "      <button class=\"colab-df-convert\" onclick=\"convertToInteractive('df-18c15e6d-2f55-482d-9a92-b9de4df38180')\"\n",
              "              title=\"Convert this dataframe to an interactive table.\"\n",
              "              style=\"display:none;\">\n",
              "        \n",
              "  <svg xmlns=\"http://www.w3.org/2000/svg\" height=\"24px\"viewBox=\"0 0 24 24\"\n",
              "       width=\"24px\">\n",
              "    <path d=\"M0 0h24v24H0V0z\" fill=\"none\"/>\n",
              "    <path d=\"M18.56 5.44l.94 2.06.94-2.06 2.06-.94-2.06-.94-.94-2.06-.94 2.06-2.06.94zm-11 1L8.5 8.5l.94-2.06 2.06-.94-2.06-.94L8.5 2.5l-.94 2.06-2.06.94zm10 10l.94 2.06.94-2.06 2.06-.94-2.06-.94-.94-2.06-.94 2.06-2.06.94z\"/><path d=\"M17.41 7.96l-1.37-1.37c-.4-.4-.92-.59-1.43-.59-.52 0-1.04.2-1.43.59L10.3 9.45l-7.72 7.72c-.78.78-.78 2.05 0 2.83L4 21.41c.39.39.9.59 1.41.59.51 0 1.02-.2 1.41-.59l7.78-7.78 2.81-2.81c.8-.78.8-2.07 0-2.86zM5.41 20L4 18.59l7.72-7.72 1.47 1.35L5.41 20z\"/>\n",
              "  </svg>\n",
              "      </button>\n",
              "      \n",
              "  <style>\n",
              "    .colab-df-container {\n",
              "      display:flex;\n",
              "      flex-wrap:wrap;\n",
              "      gap: 12px;\n",
              "    }\n",
              "\n",
              "    .colab-df-convert {\n",
              "      background-color: #E8F0FE;\n",
              "      border: none;\n",
              "      border-radius: 50%;\n",
              "      cursor: pointer;\n",
              "      display: none;\n",
              "      fill: #1967D2;\n",
              "      height: 32px;\n",
              "      padding: 0 0 0 0;\n",
              "      width: 32px;\n",
              "    }\n",
              "\n",
              "    .colab-df-convert:hover {\n",
              "      background-color: #E2EBFA;\n",
              "      box-shadow: 0px 1px 2px rgba(60, 64, 67, 0.3), 0px 1px 3px 1px rgba(60, 64, 67, 0.15);\n",
              "      fill: #174EA6;\n",
              "    }\n",
              "\n",
              "    [theme=dark] .colab-df-convert {\n",
              "      background-color: #3B4455;\n",
              "      fill: #D2E3FC;\n",
              "    }\n",
              "\n",
              "    [theme=dark] .colab-df-convert:hover {\n",
              "      background-color: #434B5C;\n",
              "      box-shadow: 0px 1px 3px 1px rgba(0, 0, 0, 0.15);\n",
              "      filter: drop-shadow(0px 1px 2px rgba(0, 0, 0, 0.3));\n",
              "      fill: #FFFFFF;\n",
              "    }\n",
              "  </style>\n",
              "\n",
              "      <script>\n",
              "        const buttonEl =\n",
              "          document.querySelector('#df-18c15e6d-2f55-482d-9a92-b9de4df38180 button.colab-df-convert');\n",
              "        buttonEl.style.display =\n",
              "          google.colab.kernel.accessAllowed ? 'block' : 'none';\n",
              "\n",
              "        async function convertToInteractive(key) {\n",
              "          const element = document.querySelector('#df-18c15e6d-2f55-482d-9a92-b9de4df38180');\n",
              "          const dataTable =\n",
              "            await google.colab.kernel.invokeFunction('convertToInteractive',\n",
              "                                                     [key], {});\n",
              "          if (!dataTable) return;\n",
              "\n",
              "          const docLinkHtml = 'Like what you see? Visit the ' +\n",
              "            '<a target=\"_blank\" href=https://colab.research.google.com/notebooks/data_table.ipynb>data table notebook</a>'\n",
              "            + ' to learn more about interactive tables.';\n",
              "          element.innerHTML = '';\n",
              "          dataTable['output_type'] = 'display_data';\n",
              "          await google.colab.output.renderOutput(dataTable, element);\n",
              "          const docLink = document.createElement('div');\n",
              "          docLink.innerHTML = docLinkHtml;\n",
              "          element.appendChild(docLink);\n",
              "        }\n",
              "      </script>\n",
              "    </div>\n",
              "  </div>\n",
              "  "
            ]
          },
          "metadata": {},
          "execution_count": 38
        }
      ]
    },
    {
      "cell_type": "code",
      "source": [
        "col_names=[\"N\",\"P\",\"K\",\"n1\",\"p1\",\"k1\"]\n",
        "\n",
        "df.dropna( axis=0, how='any', thresh=None, subset=None, inplace=True)\n",
        "\n",
        "print('Label distribution Training set:')\n",
        "print(df['n1'].value_counts())\n",
        "print()\n",
        "\n",
        "print('Label distribution Training set:')\n",
        "print(df['p1'].value_counts())\n",
        "print()\n",
        "\n",
        "print('Label distribution Training set:')\n",
        "print(df['k1'].value_counts())\n",
        "print()\n"
      ],
      "metadata": {
        "id": "KupvWOHGfZ8c",
        "colab": {
          "base_uri": "https://localhost:8080/"
        },
        "outputId": "62ba0df5-57c9-4a02-ba2b-1a85d705a640"
      },
      "execution_count": 39,
      "outputs": [
        {
          "output_type": "stream",
          "name": "stdout",
          "text": [
            "Label distribution Training set:\n",
            "High      177\n",
            "Medium    146\n",
            "Low        85\n",
            "Name: n1, dtype: int64\n",
            "\n",
            "Label distribution Training set:\n",
            "Low       280\n",
            "Medium    106\n",
            "High       22\n",
            "Name: p1, dtype: int64\n",
            "\n",
            "Label distribution Training set:\n",
            "Medium    236\n",
            "Low       156\n",
            "High       16\n",
            "Name: k1, dtype: int64\n",
            "\n"
          ]
        }
      ]
    },
    {
      "cell_type": "code",
      "source": [
        "from sklearn import preprocessing\n",
        "le1 = preprocessing.LabelEncoder()\n",
        "le2 = preprocessing.LabelEncoder()\n",
        "le3 = preprocessing.LabelEncoder()\n",
        "df['n1'] = le1.fit_transform(df['n1'].astype(str)) \n",
        "df['p1'] = le2.fit_transform(df['p1'].astype(str))\n",
        "df['k1'] = le3.fit_transform(df['k1'].astype(str))\n",
        "df.head()"
      ],
      "metadata": {
        "id": "b1O99ku6f00L",
        "colab": {
          "base_uri": "https://localhost:8080/",
          "height": 206
        },
        "outputId": "989d11ba-c2ef-4707-fdc4-c8b5b2f2edb0"
      },
      "execution_count": 40,
      "outputs": [
        {
          "output_type": "execute_result",
          "data": {
            "text/plain": [
              "       N    P      K  n1  p1  k1\n",
              "0   80.0  8.0  123.0   1   1   1\n",
              "1   85.0  8.0   86.0   1   1   1\n",
              "2  100.0  8.0  125.0   1   1   1\n",
              "3   90.0  7.0  185.0   1   1   1\n",
              "4   80.0  8.0  123.0   1   1   1"
            ],
            "text/html": [
              "\n",
              "  <div id=\"df-9d4f0788-f8b4-4086-8c92-66bccad8b859\">\n",
              "    <div class=\"colab-df-container\">\n",
              "      <div>\n",
              "<style scoped>\n",
              "    .dataframe tbody tr th:only-of-type {\n",
              "        vertical-align: middle;\n",
              "    }\n",
              "\n",
              "    .dataframe tbody tr th {\n",
              "        vertical-align: top;\n",
              "    }\n",
              "\n",
              "    .dataframe thead th {\n",
              "        text-align: right;\n",
              "    }\n",
              "</style>\n",
              "<table border=\"1\" class=\"dataframe\">\n",
              "  <thead>\n",
              "    <tr style=\"text-align: right;\">\n",
              "      <th></th>\n",
              "      <th>N</th>\n",
              "      <th>P</th>\n",
              "      <th>K</th>\n",
              "      <th>n1</th>\n",
              "      <th>p1</th>\n",
              "      <th>k1</th>\n",
              "    </tr>\n",
              "  </thead>\n",
              "  <tbody>\n",
              "    <tr>\n",
              "      <th>0</th>\n",
              "      <td>80.0</td>\n",
              "      <td>8.0</td>\n",
              "      <td>123.0</td>\n",
              "      <td>1</td>\n",
              "      <td>1</td>\n",
              "      <td>1</td>\n",
              "    </tr>\n",
              "    <tr>\n",
              "      <th>1</th>\n",
              "      <td>85.0</td>\n",
              "      <td>8.0</td>\n",
              "      <td>86.0</td>\n",
              "      <td>1</td>\n",
              "      <td>1</td>\n",
              "      <td>1</td>\n",
              "    </tr>\n",
              "    <tr>\n",
              "      <th>2</th>\n",
              "      <td>100.0</td>\n",
              "      <td>8.0</td>\n",
              "      <td>125.0</td>\n",
              "      <td>1</td>\n",
              "      <td>1</td>\n",
              "      <td>1</td>\n",
              "    </tr>\n",
              "    <tr>\n",
              "      <th>3</th>\n",
              "      <td>90.0</td>\n",
              "      <td>7.0</td>\n",
              "      <td>185.0</td>\n",
              "      <td>1</td>\n",
              "      <td>1</td>\n",
              "      <td>1</td>\n",
              "    </tr>\n",
              "    <tr>\n",
              "      <th>4</th>\n",
              "      <td>80.0</td>\n",
              "      <td>8.0</td>\n",
              "      <td>123.0</td>\n",
              "      <td>1</td>\n",
              "      <td>1</td>\n",
              "      <td>1</td>\n",
              "    </tr>\n",
              "  </tbody>\n",
              "</table>\n",
              "</div>\n",
              "      <button class=\"colab-df-convert\" onclick=\"convertToInteractive('df-9d4f0788-f8b4-4086-8c92-66bccad8b859')\"\n",
              "              title=\"Convert this dataframe to an interactive table.\"\n",
              "              style=\"display:none;\">\n",
              "        \n",
              "  <svg xmlns=\"http://www.w3.org/2000/svg\" height=\"24px\"viewBox=\"0 0 24 24\"\n",
              "       width=\"24px\">\n",
              "    <path d=\"M0 0h24v24H0V0z\" fill=\"none\"/>\n",
              "    <path d=\"M18.56 5.44l.94 2.06.94-2.06 2.06-.94-2.06-.94-.94-2.06-.94 2.06-2.06.94zm-11 1L8.5 8.5l.94-2.06 2.06-.94-2.06-.94L8.5 2.5l-.94 2.06-2.06.94zm10 10l.94 2.06.94-2.06 2.06-.94-2.06-.94-.94-2.06-.94 2.06-2.06.94z\"/><path d=\"M17.41 7.96l-1.37-1.37c-.4-.4-.92-.59-1.43-.59-.52 0-1.04.2-1.43.59L10.3 9.45l-7.72 7.72c-.78.78-.78 2.05 0 2.83L4 21.41c.39.39.9.59 1.41.59.51 0 1.02-.2 1.41-.59l7.78-7.78 2.81-2.81c.8-.78.8-2.07 0-2.86zM5.41 20L4 18.59l7.72-7.72 1.47 1.35L5.41 20z\"/>\n",
              "  </svg>\n",
              "      </button>\n",
              "      \n",
              "  <style>\n",
              "    .colab-df-container {\n",
              "      display:flex;\n",
              "      flex-wrap:wrap;\n",
              "      gap: 12px;\n",
              "    }\n",
              "\n",
              "    .colab-df-convert {\n",
              "      background-color: #E8F0FE;\n",
              "      border: none;\n",
              "      border-radius: 50%;\n",
              "      cursor: pointer;\n",
              "      display: none;\n",
              "      fill: #1967D2;\n",
              "      height: 32px;\n",
              "      padding: 0 0 0 0;\n",
              "      width: 32px;\n",
              "    }\n",
              "\n",
              "    .colab-df-convert:hover {\n",
              "      background-color: #E2EBFA;\n",
              "      box-shadow: 0px 1px 2px rgba(60, 64, 67, 0.3), 0px 1px 3px 1px rgba(60, 64, 67, 0.15);\n",
              "      fill: #174EA6;\n",
              "    }\n",
              "\n",
              "    [theme=dark] .colab-df-convert {\n",
              "      background-color: #3B4455;\n",
              "      fill: #D2E3FC;\n",
              "    }\n",
              "\n",
              "    [theme=dark] .colab-df-convert:hover {\n",
              "      background-color: #434B5C;\n",
              "      box-shadow: 0px 1px 3px 1px rgba(0, 0, 0, 0.15);\n",
              "      filter: drop-shadow(0px 1px 2px rgba(0, 0, 0, 0.3));\n",
              "      fill: #FFFFFF;\n",
              "    }\n",
              "  </style>\n",
              "\n",
              "      <script>\n",
              "        const buttonEl =\n",
              "          document.querySelector('#df-9d4f0788-f8b4-4086-8c92-66bccad8b859 button.colab-df-convert');\n",
              "        buttonEl.style.display =\n",
              "          google.colab.kernel.accessAllowed ? 'block' : 'none';\n",
              "\n",
              "        async function convertToInteractive(key) {\n",
              "          const element = document.querySelector('#df-9d4f0788-f8b4-4086-8c92-66bccad8b859');\n",
              "          const dataTable =\n",
              "            await google.colab.kernel.invokeFunction('convertToInteractive',\n",
              "                                                     [key], {});\n",
              "          if (!dataTable) return;\n",
              "\n",
              "          const docLinkHtml = 'Like what you see? Visit the ' +\n",
              "            '<a target=\"_blank\" href=https://colab.research.google.com/notebooks/data_table.ipynb>data table notebook</a>'\n",
              "            + ' to learn more about interactive tables.';\n",
              "          element.innerHTML = '';\n",
              "          dataTable['output_type'] = 'display_data';\n",
              "          await google.colab.output.renderOutput(dataTable, element);\n",
              "          const docLink = document.createElement('div');\n",
              "          docLink.innerHTML = docLinkHtml;\n",
              "          element.appendChild(docLink);\n",
              "        }\n",
              "      </script>\n",
              "    </div>\n",
              "  </div>\n",
              "  "
            ]
          },
          "metadata": {},
          "execution_count": 40
        }
      ]
    },
    {
      "cell_type": "code",
      "source": [
        "#Proposed MLP Classifier for N\n",
        "\n",
        "from sklearn.model_selection import train_test_split\n",
        "X = df.loc[:, [\"N\"]]\n",
        "X1 = df.loc[:, [\"P\"]]\n",
        "X2 = df.loc[:, [\"K\"]]\n",
        "\n",
        "Y = df.loc[:, [\"n1\"]]\n",
        "Y1 = df.loc[:, [\"p1\"]]\n",
        "Y2 = df.loc[:, [\"k1\"]]\n",
        "\n",
        "X_train, X_test, Y_train, Y_test = train_test_split(X, Y, test_size = 0.2)\n",
        "X_train1, X_test1, Y_train1, Y_test1 = train_test_split(X1, Y1, test_size = 0.2)\n",
        "X_train2, X_test2, Y_train2, Y_test2 = train_test_split(X2, Y2, test_size = 0.2)\n",
        "\n",
        "from sklearn.neural_network import MLPRegressor, MLPClassifier\n",
        "import sklearn.neural_network._base\n",
        "from sklearn import metrics \n",
        "\n",
        "classifier = MLPClassifier(hidden_layer_sizes = (100,), max_iter=1000,activation = 'logistic',validation_fraction=0.1)\n",
        "\n",
        "classifier.fit(X_train, Y_train)\n",
        "\n",
        "y_pred_MLP = classifier.predict(X_train)\n",
        "\n",
        "print(classifier.score(X_train,Y_train)*100)\n",
        "\n",
        "y_pred_MLP = classifier.predict(X_test)\n",
        "\n",
        "Pr_MLP_N=classifier.score(X_test,Y_test)*100\n",
        "print(Pr_MLP_N)\n"
      ],
      "metadata": {
        "id": "pWf_D8iMqVbr",
        "colab": {
          "base_uri": "https://localhost:8080/"
        },
        "outputId": "44381e8f-a981-49a0-a24c-95ee926399e1"
      },
      "execution_count": 41,
      "outputs": [
        {
          "output_type": "stream",
          "name": "stderr",
          "text": [
            "/usr/local/lib/python3.8/dist-packages/sklearn/neural_network/_multilayer_perceptron.py:1109: DataConversionWarning: A column-vector y was passed when a 1d array was expected. Please change the shape of y to (n_samples, ), for example using ravel().\n",
            "  y = column_or_1d(y, warn=True)\n"
          ]
        },
        {
          "output_type": "stream",
          "name": "stdout",
          "text": [
            "97.85276073619632\n",
            "97.5609756097561\n"
          ]
        }
      ]
    },
    {
      "cell_type": "code",
      "source": [
        "from sklearn import metrics\n",
        "from sklearn.metrics import accuracy_score\n",
        "t=metrics.accuracy_score(Y_test,y_pred_MLP )*100\n",
        "print(t)\n"
      ],
      "metadata": {
        "colab": {
          "base_uri": "https://localhost:8080/"
        },
        "id": "8LpsNZ1zz30G",
        "outputId": "064d918a-926d-4b2b-9e43-31e47e7194d0"
      },
      "execution_count": 42,
      "outputs": [
        {
          "output_type": "stream",
          "name": "stdout",
          "text": [
            "97.5609756097561\n"
          ]
        }
      ]
    },
    {
      "cell_type": "code",
      "source": [
        "from sklearn.metrics import f1_score\n",
        "f1=f1_score(Y_test, y_pred_MLP, average=None)\n",
        "print(f1)"
      ],
      "metadata": {
        "colab": {
          "base_uri": "https://localhost:8080/"
        },
        "id": "mYfp2pA3F_7L",
        "outputId": "98bf1e3d-4bdc-4cc4-e5a9-03dee14fdbd3"
      },
      "execution_count": 43,
      "outputs": [
        {
          "output_type": "stream",
          "name": "stdout",
          "text": [
            "[0.975      1.         0.96153846]\n"
          ]
        }
      ]
    },
    {
      "cell_type": "code",
      "source": [
        "X_train.shape, Y_train.shape"
      ],
      "metadata": {
        "colab": {
          "base_uri": "https://localhost:8080/"
        },
        "id": "pdcfS2GYnAMa",
        "outputId": "b9ea20a4-a141-4bbd-9c66-42b8a66e5113"
      },
      "execution_count": 44,
      "outputs": [
        {
          "output_type": "execute_result",
          "data": {
            "text/plain": [
              "((326, 1), (326, 1))"
            ]
          },
          "metadata": {},
          "execution_count": 44
        }
      ]
    },
    {
      "cell_type": "code",
      "source": [
        "# CONFUSION MATRIX FOR Proposed MLP Classifier for N\n",
        "from sklearn import metrics\n",
        "import matplotlib.pyplot as plt\n",
        "import seaborn as sns\n",
        "cf_matrix = metrics.confusion_matrix (Y_test,y_pred_MLP)\n",
        "print(cf_matrix)\n",
        "\n",
        "# Printing the precision and recall, among other metrics\n",
        "print(metrics.classification_report(Y_test,y_pred_MLP))\n",
        "\n",
        "plt.figure(figsize=(12,10))\n",
        "sns.heatmap(cf_matrix, annot=True)\n",
        "plt.title('Confusion Matrix - Proposed MLP Classifier For N')\n",
        "plt.xlabel('Actal Values')\n",
        "plt.ylabel('Predicted Values')\n",
        "plt.show()\n",
        "\n"
      ],
      "metadata": {
        "id": "vEOJwduHw-0X",
        "colab": {
          "base_uri": "https://localhost:8080/",
          "height": 847
        },
        "outputId": "59c24fa3-0005-491c-bfbc-3747b1dba246"
      },
      "execution_count": 45,
      "outputs": [
        {
          "output_type": "stream",
          "name": "stdout",
          "text": [
            "[[39  0  0]\n",
            " [ 0 16  0]\n",
            " [ 2  0 25]]\n",
            "              precision    recall  f1-score   support\n",
            "\n",
            "           0       0.95      1.00      0.97        39\n",
            "           1       1.00      1.00      1.00        16\n",
            "           2       1.00      0.93      0.96        27\n",
            "\n",
            "    accuracy                           0.98        82\n",
            "   macro avg       0.98      0.98      0.98        82\n",
            "weighted avg       0.98      0.98      0.98        82\n",
            "\n"
          ]
        },
        {
          "output_type": "display_data",
          "data": {
            "text/plain": [
              "<Figure size 864x720 with 2 Axes>"
            ],
            "image/png": "[encoded data removed]"
          },
          "metadata": {
            "needs_background": "light"
          }
        }
      ]
    },
    {
      "cell_type": "code",
      "source": [
        "#Proposed MLP Classifier for P\n",
        "\n",
        "classifier1 = MLPClassifier(hidden_layer_sizes = (100,), max_iter=1000,activation = 'logistic',validation_fraction=0.1)\n",
        "\n",
        "classifier1.fit(X_train1, Y_train1)\n",
        "\n",
        "y_pred_MLP1 = classifier1.predict(X_train1)\n",
        "\n",
        "print(classifier1.score(X_train1,Y_train1)*100)\n",
        "\n",
        "y_pred_MLP1 = classifier1.predict(X_test1)\n",
        "\n",
        "Pr_MLP_P=classifier1.score(X_test1,Y_test1)*100\n",
        "print(Pr_MLP_P)\n"
      ],
      "metadata": {
        "id": "SBVjQs5MNjuj",
        "colab": {
          "base_uri": "https://localhost:8080/"
        },
        "outputId": "67569271-358e-4e09-d975-49239b694442"
      },
      "execution_count": 46,
      "outputs": [
        {
          "output_type": "stream",
          "name": "stderr",
          "text": [
            "/usr/local/lib/python3.8/dist-packages/sklearn/neural_network/_multilayer_perceptron.py:1109: DataConversionWarning: A column-vector y was passed when a 1d array was expected. Please change the shape of y to (n_samples, ), for example using ravel().\n",
            "  y = column_or_1d(y, warn=True)\n"
          ]
        },
        {
          "output_type": "stream",
          "name": "stdout",
          "text": [
            "100.0\n",
            "100.0\n"
          ]
        },
        {
          "output_type": "stream",
          "name": "stderr",
          "text": [
            "/usr/local/lib/python3.8/dist-packages/sklearn/neural_network/_multilayer_perceptron.py:692: ConvergenceWarning: Stochastic Optimizer: Maximum iterations (1000) reached and the optimization hasn't converged yet.\n",
            "  warnings.warn(\n"
          ]
        }
      ]
    },
    {
      "cell_type": "code",
      "source": [
        "t=metrics.accuracy_score(Y_test1,y_pred_MLP1 )*100\n",
        "print(t)"
      ],
      "metadata": {
        "colab": {
          "base_uri": "https://localhost:8080/"
        },
        "id": "wFjaIRqL6ol1",
        "outputId": "b4520236-b089-42d0-cc91-72a3007c76d7"
      },
      "execution_count": 47,
      "outputs": [
        {
          "output_type": "stream",
          "name": "stdout",
          "text": [
            "100.0\n"
          ]
        }
      ]
    },
    {
      "cell_type": "code",
      "source": [
        "# CONFUSION MATRIX FOR Proposed MLP Classifier for P\n",
        "from sklearn import metrics\n",
        "cf_matrix = metrics.confusion_matrix (Y_test1,y_pred_MLP1)\n",
        "print(cf_matrix)\n",
        "\n",
        "# Printing the precision and recall, among other metrics\n",
        "print(metrics.classification_report(Y_test1,y_pred_MLP1))\n",
        "\n",
        "plt.figure(figsize=(12,10))\n",
        "sns.heatmap(cf_matrix, annot=True)\n",
        "plt.title('Confusion Matrix - Proposed MLP Classifier For P')\n",
        "plt.xlabel('Actal Values')\n",
        "plt.ylabel('Predicted Values')\n",
        "plt.show()\n"
      ],
      "metadata": {
        "id": "wEV41AmhyX1O",
        "colab": {
          "base_uri": "https://localhost:8080/",
          "height": 847
        },
        "outputId": "14864001-30fe-4efe-b75c-5c55a3317bfc"
      },
      "execution_count": 48,
      "outputs": [
        {
          "output_type": "stream",
          "name": "stdout",
          "text": [
            "[[ 3  0  0]\n",
            " [ 0 53  0]\n",
            " [ 0  0 26]]\n",
            "              precision    recall  f1-score   support\n",
            "\n",
            "           0       1.00      1.00      1.00         3\n",
            "           1       1.00      1.00      1.00        53\n",
            "           2       1.00      1.00      1.00        26\n",
            "\n",
            "    accuracy                           1.00        82\n",
            "   macro avg       1.00      1.00      1.00        82\n",
            "weighted avg       1.00      1.00      1.00        82\n",
            "\n"
          ]
        },
        {
          "output_type": "display_data",
          "data": {
            "text/plain": [
              "<Figure size 864x720 with 2 Axes>"
            ],
            "image/png": "[encoded data removed]"
          },
          "metadata": {
            "needs_background": "light"
          }
        }
      ]
    },
    {
      "cell_type": "code",
      "source": [
        "#Proposed MLP Classifier for K\n",
        "\n",
        "classifier2 = MLPClassifier(hidden_layer_sizes = (100,), max_iter=1000,activation = 'logistic',validation_fraction=0.1)\n",
        "\n",
        "classifier2.fit(X_train2, Y_train2)\n",
        "\n",
        "y_pred_MLP2 = classifier2.predict(X_train2)\n",
        "\n",
        "print(classifier2.score(X_train2,Y_train2)*100)\n",
        "\n",
        "y_pred_MLP2 = classifier2.predict(X_test2)\n",
        "\n",
        "Pr_MLP_K=classifier2.score(X_test2,Y_test2)*100\n",
        "print(Pr_MLP_K)"
      ],
      "metadata": {
        "id": "W1drQBVfNxI3",
        "colab": {
          "base_uri": "https://localhost:8080/"
        },
        "outputId": "7a7307ac-a8f5-4bd1-a5df-222afd1e9f3a"
      },
      "execution_count": 49,
      "outputs": [
        {
          "output_type": "stream",
          "name": "stderr",
          "text": [
            "/usr/local/lib/python3.8/dist-packages/sklearn/neural_network/_multilayer_perceptron.py:1109: DataConversionWarning: A column-vector y was passed when a 1d array was expected. Please change the shape of y to (n_samples, ), for example using ravel().\n",
            "  y = column_or_1d(y, warn=True)\n"
          ]
        },
        {
          "output_type": "stream",
          "name": "stdout",
          "text": [
            "93.86503067484662\n",
            "95.1219512195122\n"
          ]
        }
      ]
    },
    {
      "cell_type": "code",
      "source": [
        "t=metrics.accuracy_score(Y_test2,y_pred_MLP2 )*100\n",
        "print(t)"
      ],
      "metadata": {
        "colab": {
          "base_uri": "https://localhost:8080/"
        },
        "id": "-ZSIlMRL6zPU",
        "outputId": "d7a73a0b-02f0-44b1-e8e3-1cdcf2ef28aa"
      },
      "execution_count": 50,
      "outputs": [
        {
          "output_type": "stream",
          "name": "stdout",
          "text": [
            "95.1219512195122\n"
          ]
        }
      ]
    },
    {
      "cell_type": "code",
      "source": [
        "# CONFUSION MATRIX FOR Proposed MLP Classifier for K\n",
        "from sklearn import metrics\n",
        "cf_matrix = metrics.confusion_matrix (Y_test2,y_pred_MLP2)\n",
        "print(cf_matrix)\n",
        "\n",
        "# Printing the precision and recall, among other metrics\n",
        "print(metrics.classification_report(Y_test2,y_pred_MLP2))\n",
        "\n",
        "plt.figure(figsize=(12,10))\n",
        "sns.heatmap(cf_matrix, annot=True)\n",
        "plt.title('Confusion Matrix - Proposed MLP Classifier For K')\n",
        "plt.xlabel('Actal Values')\n",
        "plt.ylabel('Predicted Values')\n",
        "plt.show()\n"
      ],
      "metadata": {
        "id": "IYAqCuH1ywAL",
        "colab": {
          "base_uri": "https://localhost:8080/",
          "height": 971
        },
        "outputId": "7a20d474-2de5-4333-9ae5-f48efdb321e9"
      },
      "execution_count": 51,
      "outputs": [
        {
          "output_type": "stream",
          "name": "stdout",
          "text": [
            "[[ 0  0  1]\n",
            " [ 0 43  3]\n",
            " [ 0  0 35]]\n",
            "              precision    recall  f1-score   support\n",
            "\n",
            "           0       0.00      0.00      0.00         1\n",
            "           1       1.00      0.93      0.97        46\n",
            "           2       0.90      1.00      0.95        35\n",
            "\n",
            "    accuracy                           0.95        82\n",
            "   macro avg       0.63      0.64      0.64        82\n",
            "weighted avg       0.94      0.95      0.95        82\n",
            "\n"
          ]
        },
        {
          "output_type": "stream",
          "name": "stderr",
          "text": [
            "/usr/local/lib/python3.8/dist-packages/sklearn/metrics/_classification.py:1318: UndefinedMetricWarning: Precision and F-score are ill-defined and being set to 0.0 in labels with no predicted samples. Use `zero_division` parameter to control this behavior.\n",
            "  _warn_prf(average, modifier, msg_start, len(result))\n",
            "/usr/local/lib/python3.8/dist-packages/sklearn/metrics/_classification.py:1318: UndefinedMetricWarning: Precision and F-score are ill-defined and being set to 0.0 in labels with no predicted samples. Use `zero_division` parameter to control this behavior.\n",
            "  _warn_prf(average, modifier, msg_start, len(result))\n",
            "/usr/local/lib/python3.8/dist-packages/sklearn/metrics/_classification.py:1318: UndefinedMetricWarning: Precision and F-score are ill-defined and being set to 0.0 in labels with no predicted samples. Use `zero_division` parameter to control this behavior.\n",
            "  _warn_prf(average, modifier, msg_start, len(result))\n"
          ]
        },
        {
          "output_type": "display_data",
          "data": {
            "text/plain": [
              "<Figure size 864x720 with 2 Axes>"
            ],
            "image/png": "[encoded data removed]"
          },
          "metadata": {
            "needs_background": "light"
          }
        }
      ]
    },
    {
      "cell_type": "code",
      "source": [
        "#recommendation system\n",
        "import numpy as np\n",
        "out = np.concatenate(([y_pred_MLP],[y_pred_MLP1.T],[y_pred_MLP2.T]), axis=0)\n",
        "out = np.transpose(out)\n",
        "data1=[]\n",
        "data2=[]\n",
        "data3=[]\n",
        "for i in range(0,out.shape[0]):\n",
        "  for j in range(0,out.shape[0]):\n",
        "    if j ==0:\n",
        "      if out[i,j] == 0:\n",
        "        data1.append('Low')\n",
        "      elif out[i,j] == 1:\n",
        "        data1.append('Medium')\n",
        "      else:\n",
        "        data1.append('High')\n",
        "    if j ==1:\n",
        "      if out[i,j] == 0:\n",
        "        data2.append('Low')\n",
        "      elif out[i,j] == 1:\n",
        "        data2.append('Medium')\n",
        "      else:\n",
        "        data2.append('High')\n",
        "    if j ==2:\n",
        "      if out[i,j] == 0:\n",
        "        data3.append('Low')\n",
        "      elif out[i,j] == 1:\n",
        "        data3.append('Medium')\n",
        "      else:\n",
        "        data3.append('High')\n",
        "data1=pd.DataFrame({'N':data1})\n",
        "data2=pd.DataFrame({'P':data2})\n",
        "data3=pd.DataFrame({'K':data3})\n",
        "data=pd.concat([data1,data2,data3],axis=1)\n",
        "a=data.loc[1]"
      ],
      "metadata": {
        "id": "72MdvuGbTGgM"
      },
      "execution_count": 52,
      "outputs": []
    },
    {
      "cell_type": "code",
      "source": [
        "a"
      ],
      "metadata": {
        "id": "2gGatkM-rJ1v",
        "colab": {
          "base_uri": "https://localhost:8080/"
        },
        "outputId": "72247d19-f676-471e-aa01-1c7899e88f99"
      },
      "execution_count": 53,
      "outputs": [
        {
          "output_type": "execute_result",
          "data": {
            "text/plain": [
              "N    Medium\n",
              "P    Medium\n",
              "K      High\n",
              "Name: 1, dtype: object"
            ]
          },
          "metadata": {},
          "execution_count": 53
        }
      ]
    },
    {
      "cell_type": "code",
      "source": [
        "out_label1=[]\n",
        "out_label2=[]\n",
        "out_label3=[]\n",
        "for i in range(0,12):\n",
        "  for j in range(0,2):\n",
        "    if j == 0:\n",
        "      if a[j] == output_data.loc[i][j]:\n",
        "        out_label1.append('Sufficient')\n",
        "      elif output_data.loc[i][j] == 'Low' and a[j] == 'High':\n",
        "        out_label1.append('No Need')\n",
        "      elif output_data.loc[i][j] == 'Medium' and a[j] == 'High':\n",
        "        out_label1.append('No Need')\n",
        "      elif output_data.loc[i][j] == 'Medium' and a[j] == 'Low':\n",
        "        out_label1.append('Need Low')\n",
        "      elif output_data.loc[i][j] == 'High' and a[j] == 'Low':\n",
        "        out_label1.append('Need High')\n",
        "      else:\n",
        "        out_label1.append('Need low')\n",
        "\n",
        "    if j == 1:\n",
        "      if a[j] == output_data.loc[i][j]:\n",
        "        out_label2.append('Sufficient')\n",
        "      elif output_data.loc[i][j] == 'Low' and a[j] == 'High':\n",
        "        out_label2.append('No Need')\n",
        "      elif output_data.loc[i][j] == 'Medium' and a[j] == 'High':\n",
        "        out_label2.append('No Need')\n",
        "      elif output_data.loc[i][j] == 'Medium' and a[j] == 'Low':\n",
        "        out_label2.append('Need Low')\n",
        "      elif output_data.loc[i][j] == 'High' and a[j] == 'Low':\n",
        "        out_label2.append('Need High')\n",
        "      else:\n",
        "        out_label2.append('Need low')\n",
        "\n",
        "    if j == 2:\n",
        "      if a[j] == output_data.loc[i][j]:\n",
        "        out_label3.append('Sufficient')\n",
        "      elif output_data.loc[i][j] == 'Low' and a[j] == 'High':\n",
        "        out_label3.append('No Need')\n",
        "      elif output_data.loc[i][j] == 'Medium' and a[j] == 'High':\n",
        "        out_label3.append('No Need')\n",
        "      elif output_data.loc[i][j] == 'Medium' and a[j] == 'Low':\n",
        "        out_label3.append('Need Low')\n",
        "      elif output_data.loc[i][j] == 'High' and a[j] == 'Low':\n",
        "        out_label3.append('Need High')\n",
        "      else:\n",
        "        out_label3.append('Need low')\n",
        "\n",
        "out_label1=pd.DataFrame({'N':out_label1})\n",
        "out_label2=pd.DataFrame({'P':out_label2})\n",
        "out_label3=pd.DataFrame({'K':out_label3})\n",
        "out_label=pd.concat([out_label1,out_label1,out_label1],axis=1)\n",
        "\n",
        "out_label"
      ],
      "metadata": {
        "id": "Hhk_H0tkscwn",
        "colab": {
          "base_uri": "https://localhost:8080/",
          "height": 426
        },
        "outputId": "ca3602a2-daeb-49ae-a0d0-266fec60f684"
      },
      "execution_count": 54,
      "outputs": [
        {
          "output_type": "execute_result",
          "data": {
            "text/plain": [
              "           N         N         N\n",
              "0   Need low  Need low  Need low\n",
              "1   Need low  Need low  Need low\n",
              "2   Need low  Need low  Need low\n",
              "3   Need low  Need low  Need low\n",
              "4   Need low  Need low  Need low\n",
              "5   Need low  Need low  Need low\n",
              "6   Need low  Need low  Need low\n",
              "7   Need low  Need low  Need low\n",
              "8   Need low  Need low  Need low\n",
              "9   Need low  Need low  Need low\n",
              "10  Need low  Need low  Need low\n",
              "11  Need low  Need low  Need low"
            ],
            "text/html": [
              "\n",
              "  <div id=\"df-e19e3fbb-6eac-4c76-835d-196880784baa\">\n",
              "    <div class=\"colab-df-container\">\n",
              "      <div>\n",
              "<style scoped>\n",
              "    .dataframe tbody tr th:only-of-type {\n",
              "        vertical-align: middle;\n",
              "    }\n",
              "\n",
              "    .dataframe tbody tr th {\n",
              "        vertical-align: top;\n",
              "    }\n",
              "\n",
              "    .dataframe thead th {\n",
              "        text-align: right;\n",
              "    }\n",
              "</style>\n",
              "<table border=\"1\" class=\"dataframe\">\n",
              "  <thead>\n",
              "    <tr style=\"text-align: right;\">\n",
              "      <th></th>\n",
              "      <th>N</th>\n",
              "      <th>N</th>\n",
              "      <th>N</th>\n",
              "    </tr>\n",
              "  </thead>\n",
              "  <tbody>\n",
              "    <tr>\n",
              "      <th>0</th>\n",
              "      <td>Need low</td>\n",
              "      <td>Need low</td>\n",
              "      <td>Need low</td>\n",
              "    </tr>\n",
              "    <tr>\n",
              "      <th>1</th>\n",
              "      <td>Need low</td>\n",
              "      <td>Need low</td>\n",
              "      <td>Need low</td>\n",
              "    </tr>\n",
              "    <tr>\n",
              "      <th>2</th>\n",
              "      <td>Need low</td>\n",
              "      <td>Need low</td>\n",
              "      <td>Need low</td>\n",
              "    </tr>\n",
              "    <tr>\n",
              "      <th>3</th>\n",
              "      <td>Need low</td>\n",
              "      <td>Need low</td>\n",
              "      <td>Need low</td>\n",
              "    </tr>\n",
              "    <tr>\n",
              "      <th>4</th>\n",
              "      <td>Need low</td>\n",
              "      <td>Need low</td>\n",
              "      <td>Need low</td>\n",
              "    </tr>\n",
              "    <tr>\n",
              "      <th>5</th>\n",
              "      <td>Need low</td>\n",
              "      <td>Need low</td>\n",
              "      <td>Need low</td>\n",
              "    </tr>\n",
              "    <tr>\n",
              "      <th>6</th>\n",
              "      <td>Need low</td>\n",
              "      <td>Need low</td>\n",
              "      <td>Need low</td>\n",
              "    </tr>\n",
              "    <tr>\n",
              "      <th>7</th>\n",
              "      <td>Need low</td>\n",
              "      <td>Need low</td>\n",
              "      <td>Need low</td>\n",
              "    </tr>\n",
              "    <tr>\n",
              "      <th>8</th>\n",
              "      <td>Need low</td>\n",
              "      <td>Need low</td>\n",
              "      <td>Need low</td>\n",
              "    </tr>\n",
              "    <tr>\n",
              "      <th>9</th>\n",
              "      <td>Need low</td>\n",
              "      <td>Need low</td>\n",
              "      <td>Need low</td>\n",
              "    </tr>\n",
              "    <tr>\n",
              "      <th>10</th>\n",
              "      <td>Need low</td>\n",
              "      <td>Need low</td>\n",
              "      <td>Need low</td>\n",
              "    </tr>\n",
              "    <tr>\n",
              "      <th>11</th>\n",
              "      <td>Need low</td>\n",
              "      <td>Need low</td>\n",
              "      <td>Need low</td>\n",
              "    </tr>\n",
              "  </tbody>\n",
              "</table>\n",
              "</div>\n",
              "      <button class=\"colab-df-convert\" onclick=\"convertToInteractive('df-e19e3fbb-6eac-4c76-835d-196880784baa')\"\n",
              "              title=\"Convert this dataframe to an interactive table.\"\n",
              "              style=\"display:none;\">\n",
              "        \n",
              "  <svg xmlns=\"http://www.w3.org/2000/svg\" height=\"24px\"viewBox=\"0 0 24 24\"\n",
              "       width=\"24px\">\n",
              "    <path d=\"M0 0h24v24H0V0z\" fill=\"none\"/>\n",
              "    <path d=\"M18.56 5.44l.94 2.06.94-2.06 2.06-.94-2.06-.94-.94-2.06-.94 2.06-2.06.94zm-11 1L8.5 8.5l.94-2.06 2.06-.94-2.06-.94L8.5 2.5l-.94 2.06-2.06.94zm10 10l.94 2.06.94-2.06 2.06-.94-2.06-.94-.94-2.06-.94 2.06-2.06.94z\"/><path d=\"M17.41 7.96l-1.37-1.37c-.4-.4-.92-.59-1.43-.59-.52 0-1.04.2-1.43.59L10.3 9.45l-7.72 7.72c-.78.78-.78 2.05 0 2.83L4 21.41c.39.39.9.59 1.41.59.51 0 1.02-.2 1.41-.59l7.78-7.78 2.81-2.81c.8-.78.8-2.07 0-2.86zM5.41 20L4 18.59l7.72-7.72 1.47 1.35L5.41 20z\"/>\n",
              "  </svg>\n",
              "      </button>\n",
              "      \n",
              "  <style>\n",
              "    .colab-df-container {\n",
              "      display:flex;\n",
              "      flex-wrap:wrap;\n",
              "      gap: 12px;\n",
              "    }\n",
              "\n",
              "    .colab-df-convert {\n",
              "      background-color: #E8F0FE;\n",
              "      border: none;\n",
              "      border-radius: 50%;\n",
              "      cursor: pointer;\n",
              "      display: none;\n",
              "      fill: #1967D2;\n",
              "      height: 32px;\n",
              "      padding: 0 0 0 0;\n",
              "      width: 32px;\n",
              "    }\n",
              "\n",
              "    .colab-df-convert:hover {\n",
              "      background-color: #E2EBFA;\n",
              "      box-shadow: 0px 1px 2px rgba(60, 64, 67, 0.3), 0px 1px 3px 1px rgba(60, 64, 67, 0.15);\n",
              "      fill: #174EA6;\n",
              "    }\n",
              "\n",
              "    [theme=dark] .colab-df-convert {\n",
              "      background-color: #3B4455;\n",
              "      fill: #D2E3FC;\n",
              "    }\n",
              "\n",
              "    [theme=dark] .colab-df-convert:hover {\n",
              "      background-color: #434B5C;\n",
              "      box-shadow: 0px 1px 3px 1px rgba(0, 0, 0, 0.15);\n",
              "      filter: drop-shadow(0px 1px 2px rgba(0, 0, 0, 0.3));\n",
              "      fill: #FFFFFF;\n",
              "    }\n",
              "  </style>\n",
              "\n",
              "      <script>\n",
              "        const buttonEl =\n",
              "          document.querySelector('#df-e19e3fbb-6eac-4c76-835d-196880784baa button.colab-df-convert');\n",
              "        buttonEl.style.display =\n",
              "          google.colab.kernel.accessAllowed ? 'block' : 'none';\n",
              "\n",
              "        async function convertToInteractive(key) {\n",
              "          const element = document.querySelector('#df-e19e3fbb-6eac-4c76-835d-196880784baa');\n",
              "          const dataTable =\n",
              "            await google.colab.kernel.invokeFunction('convertToInteractive',\n",
              "                                                     [key], {});\n",
              "          if (!dataTable) return;\n",
              "\n",
              "          const docLinkHtml = 'Like what you see? Visit the ' +\n",
              "            '<a target=\"_blank\" href=https://colab.research.google.com/notebooks/data_table.ipynb>data table notebook</a>'\n",
              "            + ' to learn more about interactive tables.';\n",
              "          element.innerHTML = '';\n",
              "          dataTable['output_type'] = 'display_data';\n",
              "          await google.colab.output.renderOutput(dataTable, element);\n",
              "          const docLink = document.createElement('div');\n",
              "          docLink.innerHTML = docLinkHtml;\n",
              "          element.appendChild(docLink);\n",
              "        }\n",
              "      </script>\n",
              "    </div>\n",
              "  </div>\n",
              "  "
            ]
          },
          "metadata": {},
          "execution_count": 54
        }
      ]
    },
    {
      "cell_type": "code",
      "source": [
        "#With out Novelty MLP Classifier\n",
        "# N\n",
        "\n",
        "classifiers = MLPClassifier(hidden_layer_sizes = (100,), max_iter=1000,activation = 'tanh',validation_fraction=0.1)\n",
        "\n",
        "classifiers.fit(X_train, Y_train)\n",
        "\n",
        "y_pred_MLP_WN = classifiers.predict(X_train)\n",
        "\n",
        "print(classifiers.score(X_train,Y_train)*100)\n",
        "\n",
        "y_pred_MLP_WN = classifiers.predict(X_test)\n",
        "\n",
        "MLP_N_rs = classifiers.score(X_test,Y_test)*100\n",
        "print(MLP_N_rs)\n",
        "\n",
        "# P\n",
        "\n",
        "classifiers1 = MLPClassifier(hidden_layer_sizes = (100,), max_iter=1000,activation = 'tanh',validation_fraction=0.1)\n",
        "\n",
        "classifiers1.fit(X_train1, Y_train1)\n",
        "\n",
        "y_pred_MLP1_WN = classifiers1.predict(X_train1)\n",
        "\n",
        "print(classifiers1.score(X_train1,Y_train1)*100)\n",
        "\n",
        "y_pred_MLP1_WN = classifiers.predict(X_test1)\n",
        "\n",
        "MLP_P_rs= classifiers.score(X_test1,Y_test1)*100\n",
        "print(MLP_P_rs)\n",
        "\n",
        "\n",
        "# K\n",
        "\n",
        "classifiers2 = MLPClassifier(hidden_layer_sizes = (100,), max_iter=1000,activation = 'tanh',validation_fraction=0.1)\n",
        "\n",
        "classifiers2.fit(X_train2, Y_train2)\n",
        "\n",
        "y_pred_MLP2_WN = classifiers2.predict(X_train2)\n",
        "\n",
        "print(classifiers2.score(X_train2,Y_train2)*100)\n",
        "\n",
        "y_pred_MLP2_WN = classifiers.predict(X_test2)\n",
        "\n",
        "MLP_K_rs= classifiers.score(X_test2,Y_test2)*100\n",
        "print(MLP_K_rs)\n"
      ],
      "metadata": {
        "id": "mNrWpt7LOHn1",
        "colab": {
          "base_uri": "https://localhost:8080/"
        },
        "outputId": "931e7e32-5810-4717-94ff-10e05ba9ba46"
      },
      "execution_count": 55,
      "outputs": [
        {
          "output_type": "stream",
          "name": "stderr",
          "text": [
            "/usr/local/lib/python3.8/dist-packages/sklearn/neural_network/_multilayer_perceptron.py:1109: DataConversionWarning: A column-vector y was passed when a 1d array was expected. Please change the shape of y to (n_samples, ), for example using ravel().\n",
            "  y = column_or_1d(y, warn=True)\n"
          ]
        },
        {
          "output_type": "stream",
          "name": "stdout",
          "text": [
            "88.95705521472392\n",
            "87.8048780487805\n"
          ]
        },
        {
          "output_type": "stream",
          "name": "stderr",
          "text": [
            "/usr/local/lib/python3.8/dist-packages/sklearn/neural_network/_multilayer_perceptron.py:1109: DataConversionWarning: A column-vector y was passed when a 1d array was expected. Please change the shape of y to (n_samples, ), for example using ravel().\n",
            "  y = column_or_1d(y, warn=True)\n",
            "/usr/local/lib/python3.8/dist-packages/sklearn/neural_network/_multilayer_perceptron.py:692: ConvergenceWarning: Stochastic Optimizer: Maximum iterations (1000) reached and the optimization hasn't converged yet.\n",
            "  warnings.warn(\n",
            "/usr/local/lib/python3.8/dist-packages/sklearn/base.py:493: FutureWarning: The feature names should match those that were passed during fit. Starting version 1.2, an error will be raised.\n",
            "Feature names unseen at fit time:\n",
            "- P\n",
            "Feature names seen at fit time, yet now missing:\n",
            "- N\n",
            "\n",
            "  warnings.warn(message, FutureWarning)\n",
            "/usr/local/lib/python3.8/dist-packages/sklearn/base.py:493: FutureWarning: The feature names should match those that were passed during fit. Starting version 1.2, an error will be raised.\n",
            "Feature names unseen at fit time:\n",
            "- P\n",
            "Feature names seen at fit time, yet now missing:\n",
            "- N\n",
            "\n",
            "  warnings.warn(message, FutureWarning)\n",
            "/usr/local/lib/python3.8/dist-packages/sklearn/neural_network/_multilayer_perceptron.py:1109: DataConversionWarning: A column-vector y was passed when a 1d array was expected. Please change the shape of y to (n_samples, ), for example using ravel().\n",
            "  y = column_or_1d(y, warn=True)\n"
          ]
        },
        {
          "output_type": "stream",
          "name": "stdout",
          "text": [
            "100.0\n",
            "64.63414634146342\n",
            "94.47852760736197\n",
            "23.170731707317074\n"
          ]
        },
        {
          "output_type": "stream",
          "name": "stderr",
          "text": [
            "/usr/local/lib/python3.8/dist-packages/sklearn/base.py:493: FutureWarning: The feature names should match those that were passed during fit. Starting version 1.2, an error will be raised.\n",
            "Feature names unseen at fit time:\n",
            "- K\n",
            "Feature names seen at fit time, yet now missing:\n",
            "- N\n",
            "\n",
            "  warnings.warn(message, FutureWarning)\n",
            "/usr/local/lib/python3.8/dist-packages/sklearn/base.py:493: FutureWarning: The feature names should match those that were passed during fit. Starting version 1.2, an error will be raised.\n",
            "Feature names unseen at fit time:\n",
            "- K\n",
            "Feature names seen at fit time, yet now missing:\n",
            "- N\n",
            "\n",
            "  warnings.warn(message, FutureWarning)\n"
          ]
        }
      ]
    },
    {
      "cell_type": "code",
      "source": [
        "# CONFUSION MATRIX FOR # MLP Classifier without Novalty\n",
        "from sklearn import metrics\n",
        "cf_matrix = metrics.confusion_matrix (Y_test,y_pred_MLP_WN)\n",
        "print(cf_matrix)\n",
        "print(metrics.classification_report(Y_test,y_pred_MLP_WN))\n",
        "\n",
        "plt.figure(figsize=(12,10))\n",
        "sns.heatmap(cf_matrix, annot=True)\n",
        "plt.title('Confusion Matrix - MLP classifier without Novalty for N')\n",
        "plt.xlabel('Actal Values')\n",
        "plt.ylabel('Predicted Values')\n",
        "plt.show()\n",
        "\n",
        "cf_matrix = metrics.confusion_matrix (Y_test1,y_pred_MLP1_WN)\n",
        "print(cf_matrix)\n",
        "print(metrics.classification_report(Y_test1,y_pred_MLP1_WN))\n",
        "\n",
        "plt.figure(figsize=(12,10))\n",
        "sns.heatmap(cf_matrix, annot=True)\n",
        "plt.title('Confusion Matrix - MLP classifier without Novalty for P')\n",
        "plt.xlabel('Actal Values')\n",
        "plt.ylabel('Predicted Values')\n",
        "plt.show()\n",
        "\n",
        "\n",
        "cf_matrix = metrics.confusion_matrix (Y_test2,y_pred_MLP2_WN)\n",
        "print(cf_matrix)\n",
        "print(metrics.classification_report(Y_test2,y_pred_MLP2_WN))\n",
        "\n",
        "plt.figure(figsize=(12,10))\n",
        "sns.heatmap(cf_matrix, annot=True)\n",
        "plt.title('Confusion Matrix - MLP classifier without Novalty for K')\n",
        "plt.xlabel('Actal Values')\n",
        "plt.ylabel('Predicted Values')\n",
        "plt.show()\n",
        "\n"
      ],
      "metadata": {
        "id": "OmHaXE5FAGq0",
        "colab": {
          "base_uri": "https://localhost:8080/",
          "height": 1000
        },
        "outputId": "bd36a8e0-c07d-488a-d31b-d041c6481ed7"
      },
      "execution_count": 56,
      "outputs": [
        {
          "output_type": "stream",
          "name": "stdout",
          "text": [
            "[[39  0  0]\n",
            " [ 0 15  1]\n",
            " [ 9  0 18]]\n",
            "              precision    recall  f1-score   support\n",
            "\n",
            "           0       0.81      1.00      0.90        39\n",
            "           1       1.00      0.94      0.97        16\n",
            "           2       0.95      0.67      0.78        27\n",
            "\n",
            "    accuracy                           0.88        82\n",
            "   macro avg       0.92      0.87      0.88        82\n",
            "weighted avg       0.89      0.88      0.87        82\n",
            "\n"
          ]
        },
        {
          "output_type": "display_data",
          "data": {
            "text/plain": [
              "<Figure size 864x720 with 2 Axes>"
            ],
            "image/png": "[encoded data removed]"
          },
          "metadata": {
            "needs_background": "light"
          }
        },
        {
          "output_type": "stream",
          "name": "stdout",
          "text": [
            "[[ 0  3  0]\n",
            " [ 0 53  0]\n",
            " [ 0 26  0]]\n",
            "              precision    recall  f1-score   support\n",
            "\n",
            "           0       0.00      0.00      0.00         3\n",
            "           1       0.65      1.00      0.79        53\n",
            "           2       0.00      0.00      0.00        26\n",
            "\n",
            "    accuracy                           0.65        82\n",
            "   macro avg       0.22      0.33      0.26        82\n",
            "weighted avg       0.42      0.65      0.51        82\n",
            "\n"
          ]
        },
        {
          "output_type": "stream",
          "name": "stderr",
          "text": [
            "/usr/local/lib/python3.8/dist-packages/sklearn/metrics/_classification.py:1318: UndefinedMetricWarning: Precision and F-score are ill-defined and being set to 0.0 in labels with no predicted samples. Use `zero_division` parameter to control this behavior.\n",
            "  _warn_prf(average, modifier, msg_start, len(result))\n",
            "/usr/local/lib/python3.8/dist-packages/sklearn/metrics/_classification.py:1318: UndefinedMetricWarning: Precision and F-score are ill-defined and being set to 0.0 in labels with no predicted samples. Use `zero_division` parameter to control this behavior.\n",
            "  _warn_prf(average, modifier, msg_start, len(result))\n",
            "/usr/local/lib/python3.8/dist-packages/sklearn/metrics/_classification.py:1318: UndefinedMetricWarning: Precision and F-score are ill-defined and being set to 0.0 in labels with no predicted samples. Use `zero_division` parameter to control this behavior.\n",
            "  _warn_prf(average, modifier, msg_start, len(result))\n"
          ]
        },
        {
          "output_type": "display_data",
          "data": {
            "text/plain": [
              "<Figure size 864x720 with 2 Axes>"
            ],
            "image/png": "[encoded data removed]"
          },
          "metadata": {
            "needs_background": "light"
          }
        },
        {
          "output_type": "stream",
          "name": "stdout",
          "text": [
            "[[ 1  0  0]\n",
            " [20 18  8]\n",
            " [35  0  0]]\n",
            "              precision    recall  f1-score   support\n",
            "\n",
            "           0       0.02      1.00      0.04         1\n",
            "           1       1.00      0.39      0.56        46\n",
            "           2       0.00      0.00      0.00        35\n",
            "\n",
            "    accuracy                           0.23        82\n",
            "   macro avg       0.34      0.46      0.20        82\n",
            "weighted avg       0.56      0.23      0.32        82\n",
            "\n"
          ]
        },
        {
          "output_type": "display_data",
          "data": {
            "text/plain": [
              "<Figure size 864x720 with 2 Axes>"
            ],
            "image/png": "[encoded data removed]"
          },
          "metadata": {
            "needs_background": "light"
          }
        }
      ]
    },
    {
      "cell_type": "code",
      "source": [
        "from sklearn.metrics import roc_curve, roc_auc_score\n",
        "y_pred_MLP_probs = classifier.predict_proba(X_test)\n",
        "y_pred_MLP_WN_probs = classifiers.predict_proba(X_test)"
      ],
      "metadata": {
        "id": "GgN4Ar4FNmY-"
      },
      "execution_count": 57,
      "outputs": []
    },
    {
      "cell_type": "code",
      "source": [
        "#RNN network\n",
        "\n",
        "X = df.iloc[:, 0:3]\n",
        "y = df.iloc[:,-3:]\n",
        "\n",
        "# Splitting the dataset into the Training set and Test set\n",
        "from sklearn.model_selection import train_test_split\n",
        "X_train, X_test, y_train, y_test = train_test_split(X, y, test_size = 0.2, random_state = 0)\n",
        "\n",
        "\n",
        "values_X_train = X_train.values\n",
        "train_X = values_X_train.astype('float32')\n",
        "values_X_test = X_test.values\n",
        "test_X = values_X_test.astype('float32')\n",
        "values_y_train = y_train.values\n",
        "train_y = values_y_train.astype('float32')\n",
        "values_y_test = y_test.values\n",
        "test_y = values_y_test.astype('float32')\n",
        "\n",
        "train_X = train_X.reshape((train_X.shape[0], 1, train_X.shape[1]))\n",
        "test_X = test_X.reshape((test_X.shape[0], 1, test_X.shape[1]))\n",
        "\n",
        "#Sequential GRU model BEGIN\n",
        "dropout_perc = 0.2\n",
        "l2_reg = 0.01\n",
        "\n",
        "\n",
        "from tensorflow.keras.models import Sequential\n",
        "from tensorflow.keras.layers import Dense, LSTM, Dropout, GRU, Bidirectional\n",
        "from tensorflow.keras.optimizers import SGD\n",
        "import math\n",
        "from sklearn.metrics import mean_squared_error\n",
        "from tensorflow.keras import regularizers\n",
        "from tensorflow.keras.layers import PReLU\n",
        "model = Sequential()\n",
        "model.add(Dropout(dropout_perc, input_shape=(1,3)))\n",
        "model.add(GRU(100, return_sequences=True))\n",
        "model.add(Dropout(dropout_perc))\n",
        "model.add(GRU(100, return_sequences=True))\n",
        "model.add(Dropout(dropout_perc))\n",
        "model.add(GRU(100))\n",
        "model.add(Dropout(dropout_perc))\n",
        "model.add(Dense(64, activation='softmax'))\n",
        "model.add(Dropout(dropout_perc))\n",
        "para_relu = PReLU()\n",
        "model.add(Dense(1, activation=para_relu, kernel_regularizer=regularizers.l2(l2_reg)))\n",
        "model.compile(optimizer='adam', loss='mean_squared_error', metrics=['accuracy'])\n",
        "model.summary()\n",
        "history = model.fit(train_X,train_y,epochs=100,batch_size=50, validation_data=(test_X, test_y))\n"
      ],
      "metadata": {
        "colab": {
          "base_uri": "https://localhost:8080/"
        },
        "id": "yWD9SlMD01xc",
        "outputId": "353dbab5-b552-4474-9d15-27a4b156144a"
      },
      "execution_count": 61,
      "outputs": [
        {
          "output_type": "stream",
          "name": "stdout",
          "text": [
            "Model: \"sequential\"\n",
            "_________________________________________________________________\n",
            " Layer (type)                Output Shape              Param #   \n",
            "=================================================================\n",
            " dropout (Dropout)           (None, 1, 3)              0         \n",
            "                                                                 \n",
            " gru (GRU)                   (None, 1, 100)            31500     \n",
            "                                                                 \n",
            " dropout_1 (Dropout)         (None, 1, 100)            0         \n",
            "                                                                 \n",
            " gru_1 (GRU)                 (None, 1, 100)            60600     \n",
            "                                                                 \n",
            " dropout_2 (Dropout)         (None, 1, 100)            0         \n",
            "                                                                 \n",
            " gru_2 (GRU)                 (None, 100)               60600     \n",
            "                                                                 \n",
            " dropout_3 (Dropout)         (None, 100)               0         \n",
            "                                                                 \n",
            " dense (Dense)               (None, 64)                6464      \n",
            "                                                                 \n",
            " dropout_4 (Dropout)         (None, 64)                0         \n",
            "                                                                 \n",
            " dense_1 (Dense)             (None, 1)                 66        \n",
            "                                                                 \n",
            "=================================================================\n",
            "Total params: 159,230\n",
            "Trainable params: 159,230\n",
            "Non-trainable params: 0\n",
            "_________________________________________________________________\n",
            "Epoch 1/100\n",
            "7/7 [==============================] - 8s 217ms/step - loss: 2.0114 - accuracy: 0.1861 - val_loss: 1.9694 - val_accuracy: 0.1341\n",
            "Epoch 2/100\n",
            "7/7 [==============================] - 0s 13ms/step - loss: 1.9053 - accuracy: 0.1861 - val_loss: 1.7923 - val_accuracy: 0.1341\n",
            "Epoch 3/100\n",
            "7/7 [==============================] - 0s 13ms/step - loss: 1.7318 - accuracy: 0.1861 - val_loss: 1.5873 - val_accuracy: 0.1341\n",
            "Epoch 4/100\n",
            "7/7 [==============================] - 0s 14ms/step - loss: 1.5483 - accuracy: 0.1861 - val_loss: 1.4117 - val_accuracy: 0.1341\n",
            "Epoch 5/100\n",
            "7/7 [==============================] - 0s 14ms/step - loss: 1.3885 - accuracy: 0.1861 - val_loss: 1.3157 - val_accuracy: 0.1341\n",
            "Epoch 6/100\n",
            "7/7 [==============================] - 0s 12ms/step - loss: 1.3208 - accuracy: 0.1861 - val_loss: 1.2718 - val_accuracy: 0.1341\n",
            "Epoch 7/100\n",
            "7/7 [==============================] - 0s 12ms/step - loss: 1.2912 - accuracy: 0.1861 - val_loss: 1.2399 - val_accuracy: 0.1341\n",
            "Epoch 8/100\n",
            "7/7 [==============================] - 0s 14ms/step - loss: 1.2554 - accuracy: 0.1861 - val_loss: 1.2104 - val_accuracy: 0.1341\n",
            "Epoch 9/100\n",
            "7/7 [==============================] - 0s 13ms/step - loss: 1.2141 - accuracy: 0.1902 - val_loss: 1.1794 - val_accuracy: 0.1341\n",
            "Epoch 10/100\n",
            "7/7 [==============================] - 0s 17ms/step - loss: 1.1945 - accuracy: 0.2740 - val_loss: 1.1494 - val_accuracy: 0.1341\n",
            "Epoch 11/100\n",
            "7/7 [==============================] - 0s 12ms/step - loss: 1.1842 - accuracy: 0.3047 - val_loss: 1.1169 - val_accuracy: 0.1341\n",
            "Epoch 12/100\n",
            "7/7 [==============================] - 0s 12ms/step - loss: 1.1681 - accuracy: 0.3119 - val_loss: 1.0919 - val_accuracy: 0.1341\n",
            "Epoch 13/100\n",
            "7/7 [==============================] - 0s 12ms/step - loss: 1.1244 - accuracy: 0.3262 - val_loss: 1.0618 - val_accuracy: 0.1341\n",
            "Epoch 14/100\n",
            "7/7 [==============================] - 0s 12ms/step - loss: 1.1332 - accuracy: 0.3211 - val_loss: 1.0298 - val_accuracy: 0.4756\n",
            "Epoch 15/100\n",
            "7/7 [==============================] - 0s 12ms/step - loss: 1.0729 - accuracy: 0.3476 - val_loss: 0.9977 - val_accuracy: 0.4756\n",
            "Epoch 16/100\n",
            "7/7 [==============================] - 0s 13ms/step - loss: 1.0399 - accuracy: 0.3691 - val_loss: 0.9671 - val_accuracy: 0.4756\n",
            "Epoch 17/100\n",
            "7/7 [==============================] - 0s 14ms/step - loss: 1.0262 - accuracy: 0.3579 - val_loss: 0.9391 - val_accuracy: 0.4756\n",
            "Epoch 18/100\n",
            "7/7 [==============================] - 0s 14ms/step - loss: 1.0245 - accuracy: 0.3773 - val_loss: 0.9146 - val_accuracy: 0.4756\n",
            "Epoch 19/100\n",
            "7/7 [==============================] - 0s 14ms/step - loss: 0.9958 - accuracy: 0.3742 - val_loss: 0.8923 - val_accuracy: 0.4756\n",
            "Epoch 20/100\n",
            "7/7 [==============================] - 0s 19ms/step - loss: 0.9908 - accuracy: 0.3620 - val_loss: 0.8717 - val_accuracy: 0.4756\n",
            "Epoch 21/100\n",
            "7/7 [==============================] - 0s 13ms/step - loss: 0.9667 - accuracy: 0.3681 - val_loss: 0.8528 - val_accuracy: 0.4756\n",
            "Epoch 22/100\n",
            "7/7 [==============================] - 0s 15ms/step - loss: 0.8893 - accuracy: 0.3753 - val_loss: 0.8342 - val_accuracy: 0.4756\n",
            "Epoch 23/100\n",
            "7/7 [==============================] - 0s 14ms/step - loss: 0.9136 - accuracy: 0.3701 - val_loss: 0.8163 - val_accuracy: 0.4756\n",
            "Epoch 24/100\n",
            "7/7 [==============================] - 0s 15ms/step - loss: 0.9298 - accuracy: 0.3824 - val_loss: 0.8001 - val_accuracy: 0.4756\n",
            "Epoch 25/100\n",
            "7/7 [==============================] - 0s 13ms/step - loss: 0.9379 - accuracy: 0.3599 - val_loss: 0.7852 - val_accuracy: 0.4756\n",
            "Epoch 26/100\n",
            "7/7 [==============================] - 0s 14ms/step - loss: 0.8899 - accuracy: 0.3722 - val_loss: 0.7715 - val_accuracy: 0.4756\n",
            "Epoch 27/100\n",
            "7/7 [==============================] - 0s 14ms/step - loss: 0.8801 - accuracy: 0.3558 - val_loss: 0.7581 - val_accuracy: 0.4756\n",
            "Epoch 28/100\n",
            "7/7 [==============================] - 0s 18ms/step - loss: 0.8623 - accuracy: 0.3661 - val_loss: 0.7452 - val_accuracy: 0.4756\n",
            "Epoch 29/100\n",
            "7/7 [==============================] - 0s 15ms/step - loss: 0.8713 - accuracy: 0.3712 - val_loss: 0.7329 - val_accuracy: 0.4756\n",
            "Epoch 30/100\n",
            "7/7 [==============================] - 0s 19ms/step - loss: 0.8571 - accuracy: 0.3599 - val_loss: 0.7213 - val_accuracy: 0.4756\n",
            "Epoch 31/100\n",
            "7/7 [==============================] - 0s 14ms/step - loss: 0.8509 - accuracy: 0.3712 - val_loss: 0.7108 - val_accuracy: 0.4756\n",
            "Epoch 32/100\n",
            "7/7 [==============================] - 0s 14ms/step - loss: 0.8451 - accuracy: 0.3620 - val_loss: 0.7007 - val_accuracy: 0.4756\n",
            "Epoch 33/100\n",
            "7/7 [==============================] - 0s 14ms/step - loss: 0.8399 - accuracy: 0.3701 - val_loss: 0.6911 - val_accuracy: 0.4756\n",
            "Epoch 34/100\n",
            "7/7 [==============================] - 0s 14ms/step - loss: 0.8084 - accuracy: 0.3814 - val_loss: 0.6818 - val_accuracy: 0.4756\n",
            "Epoch 35/100\n",
            "7/7 [==============================] - 0s 16ms/step - loss: 0.8152 - accuracy: 0.3783 - val_loss: 0.6729 - val_accuracy: 0.4756\n",
            "Epoch 36/100\n",
            "7/7 [==============================] - 0s 15ms/step - loss: 0.8553 - accuracy: 0.3661 - val_loss: 0.6645 - val_accuracy: 0.4756\n",
            "Epoch 37/100\n",
            "7/7 [==============================] - 0s 16ms/step - loss: 0.8053 - accuracy: 0.3804 - val_loss: 0.6567 - val_accuracy: 0.4756\n",
            "Epoch 38/100\n",
            "7/7 [==============================] - 0s 14ms/step - loss: 0.7893 - accuracy: 0.3875 - val_loss: 0.6492 - val_accuracy: 0.4756\n",
            "Epoch 39/100\n",
            "7/7 [==============================] - 0s 16ms/step - loss: 0.7659 - accuracy: 0.3620 - val_loss: 0.6416 - val_accuracy: 0.4756\n",
            "Epoch 40/100\n",
            "7/7 [==============================] - 0s 14ms/step - loss: 0.8098 - accuracy: 0.3589 - val_loss: 0.6348 - val_accuracy: 0.4756\n",
            "Epoch 41/100\n",
            "7/7 [==============================] - 0s 15ms/step - loss: 0.8071 - accuracy: 0.3701 - val_loss: 0.6286 - val_accuracy: 0.4756\n",
            "Epoch 42/100\n",
            "7/7 [==============================] - 0s 14ms/step - loss: 0.7828 - accuracy: 0.3661 - val_loss: 0.6224 - val_accuracy: 0.4756\n",
            "Epoch 43/100\n",
            "7/7 [==============================] - 0s 14ms/step - loss: 0.7861 - accuracy: 0.3722 - val_loss: 0.6167 - val_accuracy: 0.4756\n",
            "Epoch 44/100\n",
            "7/7 [==============================] - 0s 14ms/step - loss: 0.8035 - accuracy: 0.3609 - val_loss: 0.6116 - val_accuracy: 0.4756\n",
            "Epoch 45/100\n",
            "7/7 [==============================] - 0s 14ms/step - loss: 0.7305 - accuracy: 0.3783 - val_loss: 0.6069 - val_accuracy: 0.4756\n",
            "Epoch 46/100\n",
            "7/7 [==============================] - 0s 15ms/step - loss: 0.7588 - accuracy: 0.3793 - val_loss: 0.6023 - val_accuracy: 0.4756\n",
            "Epoch 47/100\n",
            "7/7 [==============================] - 0s 14ms/step - loss: 0.7746 - accuracy: 0.3456 - val_loss: 0.5975 - val_accuracy: 0.4756\n",
            "Epoch 48/100\n",
            "7/7 [==============================] - 0s 14ms/step - loss: 0.8034 - accuracy: 0.3466 - val_loss: 0.5964 - val_accuracy: 0.4756\n",
            "Epoch 49/100\n",
            "7/7 [==============================] - 0s 17ms/step - loss: 0.7360 - accuracy: 0.3712 - val_loss: 0.5969 - val_accuracy: 0.4756\n",
            "Epoch 50/100\n",
            "7/7 [==============================] - 0s 15ms/step - loss: 0.7372 - accuracy: 0.3701 - val_loss: 0.5976 - val_accuracy: 0.4756\n",
            "Epoch 51/100\n",
            "7/7 [==============================] - 0s 14ms/step - loss: 0.7481 - accuracy: 0.3579 - val_loss: 0.5945 - val_accuracy: 0.4756\n",
            "Epoch 52/100\n",
            "7/7 [==============================] - 0s 14ms/step - loss: 0.7256 - accuracy: 0.3793 - val_loss: 0.5948 - val_accuracy: 0.4756\n",
            "Epoch 53/100\n",
            "7/7 [==============================] - 0s 16ms/step - loss: 0.7427 - accuracy: 0.3845 - val_loss: 0.6040 - val_accuracy: 0.4756\n",
            "Epoch 54/100\n",
            "7/7 [==============================] - 0s 14ms/step - loss: 0.6995 - accuracy: 0.3793 - val_loss: 0.5833 - val_accuracy: 0.4756\n",
            "Epoch 55/100\n",
            "7/7 [==============================] - 0s 14ms/step - loss: 0.7237 - accuracy: 0.3742 - val_loss: 0.5763 - val_accuracy: 0.4756\n",
            "Epoch 56/100\n",
            "7/7 [==============================] - 0s 13ms/step - loss: 0.7379 - accuracy: 0.3569 - val_loss: 0.5765 - val_accuracy: 0.4756\n",
            "Epoch 57/100\n",
            "7/7 [==============================] - 0s 15ms/step - loss: 0.6969 - accuracy: 0.3630 - val_loss: 0.5766 - val_accuracy: 0.4756\n",
            "Epoch 58/100\n",
            "7/7 [==============================] - 0s 14ms/step - loss: 0.6917 - accuracy: 0.3732 - val_loss: 0.5636 - val_accuracy: 0.4756\n",
            "Epoch 59/100\n",
            "7/7 [==============================] - 0s 14ms/step - loss: 0.7283 - accuracy: 0.3589 - val_loss: 0.5648 - val_accuracy: 0.4756\n",
            "Epoch 60/100\n",
            "7/7 [==============================] - 0s 15ms/step - loss: 0.7218 - accuracy: 0.3497 - val_loss: 0.5801 - val_accuracy: 0.4756\n",
            "Epoch 61/100\n",
            "7/7 [==============================] - 0s 12ms/step - loss: 0.7130 - accuracy: 0.3885 - val_loss: 0.6065 - val_accuracy: 0.4756\n",
            "Epoch 62/100\n",
            "7/7 [==============================] - 0s 14ms/step - loss: 0.6918 - accuracy: 0.3906 - val_loss: 0.5581 - val_accuracy: 0.4756\n",
            "Epoch 63/100\n",
            "7/7 [==============================] - 0s 24ms/step - loss: 0.6880 - accuracy: 0.3814 - val_loss: 0.5411 - val_accuracy: 0.4756\n",
            "Epoch 64/100\n",
            "7/7 [==============================] - 0s 24ms/step - loss: 0.7041 - accuracy: 0.3773 - val_loss: 0.5387 - val_accuracy: 0.4756\n",
            "Epoch 65/100\n",
            "7/7 [==============================] - 0s 24ms/step - loss: 0.7158 - accuracy: 0.3804 - val_loss: 0.5513 - val_accuracy: 0.4756\n",
            "Epoch 66/100\n",
            "7/7 [==============================] - 0s 22ms/step - loss: 0.6550 - accuracy: 0.3947 - val_loss: 0.5672 - val_accuracy: 0.4756\n",
            "Epoch 67/100\n",
            "7/7 [==============================] - 0s 21ms/step - loss: 0.6908 - accuracy: 0.3998 - val_loss: 0.5741 - val_accuracy: 0.4756\n",
            "Epoch 68/100\n",
            "7/7 [==============================] - 0s 20ms/step - loss: 0.6723 - accuracy: 0.3937 - val_loss: 0.5725 - val_accuracy: 0.4756\n",
            "Epoch 69/100\n",
            "7/7 [==============================] - 0s 20ms/step - loss: 0.6891 - accuracy: 0.3988 - val_loss: 0.5472 - val_accuracy: 0.4756\n",
            "Epoch 70/100\n",
            "7/7 [==============================] - 0s 21ms/step - loss: 0.6824 - accuracy: 0.3906 - val_loss: 0.5422 - val_accuracy: 0.4756\n",
            "Epoch 71/100\n",
            "7/7 [==============================] - 0s 20ms/step - loss: 0.6559 - accuracy: 0.3998 - val_loss: 0.5437 - val_accuracy: 0.4756\n",
            "Epoch 72/100\n",
            "7/7 [==============================] - 0s 21ms/step - loss: 0.6568 - accuracy: 0.4018 - val_loss: 0.5306 - val_accuracy: 0.4756\n",
            "Epoch 73/100\n",
            "7/7 [==============================] - 0s 22ms/step - loss: 0.6537 - accuracy: 0.3967 - val_loss: 0.5336 - val_accuracy: 0.4756\n",
            "Epoch 74/100\n",
            "7/7 [==============================] - 0s 21ms/step - loss: 0.6876 - accuracy: 0.3978 - val_loss: 0.5394 - val_accuracy: 0.4756\n",
            "Epoch 75/100\n",
            "7/7 [==============================] - 0s 24ms/step - loss: 0.6651 - accuracy: 0.3957 - val_loss: 0.5304 - val_accuracy: 0.4756\n",
            "Epoch 76/100\n",
            "7/7 [==============================] - 0s 21ms/step - loss: 0.6430 - accuracy: 0.4121 - val_loss: 0.5266 - val_accuracy: 0.4756\n",
            "Epoch 77/100\n",
            "7/7 [==============================] - 0s 25ms/step - loss: 0.6404 - accuracy: 0.4110 - val_loss: 0.5222 - val_accuracy: 0.4756\n",
            "Epoch 78/100\n",
            "7/7 [==============================] - 0s 22ms/step - loss: 0.6574 - accuracy: 0.3906 - val_loss: 0.5183 - val_accuracy: 0.4756\n",
            "Epoch 79/100\n",
            "7/7 [==============================] - 0s 22ms/step - loss: 0.6601 - accuracy: 0.4039 - val_loss: 0.5163 - val_accuracy: 0.4756\n",
            "Epoch 80/100\n",
            "7/7 [==============================] - 0s 20ms/step - loss: 0.6517 - accuracy: 0.3916 - val_loss: 0.5199 - val_accuracy: 0.4756\n",
            "Epoch 81/100\n",
            "7/7 [==============================] - 0s 12ms/step - loss: 0.6351 - accuracy: 0.4110 - val_loss: 0.5160 - val_accuracy: 0.4756\n",
            "Epoch 82/100\n",
            "7/7 [==============================] - 0s 18ms/step - loss: 0.6412 - accuracy: 0.4110 - val_loss: 0.5166 - val_accuracy: 0.4756\n",
            "Epoch 83/100\n",
            "7/7 [==============================] - 0s 14ms/step - loss: 0.6564 - accuracy: 0.4049 - val_loss: 0.5156 - val_accuracy: 0.4756\n",
            "Epoch 84/100\n",
            "7/7 [==============================] - 0s 13ms/step - loss: 0.6476 - accuracy: 0.4059 - val_loss: 0.5120 - val_accuracy: 0.4756\n",
            "Epoch 85/100\n",
            "7/7 [==============================] - 0s 15ms/step - loss: 0.6297 - accuracy: 0.4039 - val_loss: 0.5099 - val_accuracy: 0.4756\n",
            "Epoch 86/100\n",
            "7/7 [==============================] - 0s 14ms/step - loss: 0.6286 - accuracy: 0.4070 - val_loss: 0.5094 - val_accuracy: 0.4756\n",
            "Epoch 87/100\n",
            "7/7 [==============================] - 0s 14ms/step - loss: 0.6419 - accuracy: 0.4059 - val_loss: 0.5098 - val_accuracy: 0.4756\n",
            "Epoch 88/100\n",
            "7/7 [==============================] - 0s 14ms/step - loss: 0.6238 - accuracy: 0.4090 - val_loss: 0.5074 - val_accuracy: 0.4756\n",
            "Epoch 89/100\n",
            "7/7 [==============================] - 0s 16ms/step - loss: 0.6339 - accuracy: 0.4039 - val_loss: 0.5077 - val_accuracy: 0.4756\n",
            "Epoch 90/100\n",
            "7/7 [==============================] - 0s 15ms/step - loss: 0.6214 - accuracy: 0.4029 - val_loss: 0.5107 - val_accuracy: 0.4756\n",
            "Epoch 91/100\n",
            "7/7 [==============================] - 0s 16ms/step - loss: 0.6532 - accuracy: 0.4039 - val_loss: 0.5138 - val_accuracy: 0.4756\n",
            "Epoch 92/100\n",
            "7/7 [==============================] - 0s 13ms/step - loss: 0.6056 - accuracy: 0.4080 - val_loss: 0.5122 - val_accuracy: 0.4756\n",
            "Epoch 93/100\n",
            "7/7 [==============================] - 0s 14ms/step - loss: 0.6605 - accuracy: 0.4110 - val_loss: 0.5128 - val_accuracy: 0.4756\n",
            "Epoch 94/100\n",
            "7/7 [==============================] - 0s 15ms/step - loss: 0.6308 - accuracy: 0.4070 - val_loss: 0.5149 - val_accuracy: 0.4756\n",
            "Epoch 95/100\n",
            "7/7 [==============================] - 0s 14ms/step - loss: 0.6354 - accuracy: 0.4070 - val_loss: 0.5083 - val_accuracy: 0.4756\n",
            "Epoch 96/100\n",
            "7/7 [==============================] - 0s 13ms/step - loss: 0.6244 - accuracy: 0.4121 - val_loss: 0.4963 - val_accuracy: 0.4756\n",
            "Epoch 97/100\n",
            "7/7 [==============================] - 0s 16ms/step - loss: 0.6047 - accuracy: 0.4070 - val_loss: 0.4926 - val_accuracy: 0.4756\n",
            "Epoch 98/100\n",
            "7/7 [==============================] - 0s 17ms/step - loss: 0.6298 - accuracy: 0.4090 - val_loss: 0.4974 - val_accuracy: 0.4756\n",
            "Epoch 99/100\n",
            "7/7 [==============================] - 0s 15ms/step - loss: 0.6077 - accuracy: 0.4100 - val_loss: 0.4982 - val_accuracy: 0.4756\n",
            "Epoch 100/100\n",
            "7/7 [==============================] - 0s 14ms/step - loss: 0.6361 - accuracy: 0.4070 - val_loss: 0.4951 - val_accuracy: 0.4756\n"
          ]
        }
      ]
    },
    {
      "cell_type": "code",
      "source": [
        "#ANN Model\n",
        "\n",
        "model = Sequential()\n",
        "model.add(Dense(12, input_dim=3, activation='relu'))\n",
        "model.add(Dense(8, activation='relu'))\n",
        "model.add(Dense(3, activation='sigmoid'))\n",
        "# compile the keras model\n",
        "model.compile(loss='binary_crossentropy', optimizer='adam', metrics=['accuracy'])\n",
        "# fit the keras model on the dataset\n",
        "model.fit(X, y, epochs=50, batch_size=10)\n",
        "model.fit(X_train,y_train,epochs=50,batch_size=10)\n",
        "model.evaluate(X_train,y_train)\n"
      ],
      "metadata": {
        "id": "BpZnLMBwRg21",
        "colab": {
          "base_uri": "https://localhost:8080/"
        },
        "outputId": "f76e1be2-68d5-49ff-f5eb-b70be3081f9d"
      },
      "execution_count": 62,
      "outputs": [
        {
          "output_type": "stream",
          "name": "stdout",
          "text": [
            "Epoch 1/50\n",
            "41/41 [==============================] - 1s 2ms/step - loss: 180.1882 - accuracy: 0.5588\n",
            "Epoch 2/50\n",
            "41/41 [==============================] - 0s 2ms/step - loss: 118.5994 - accuracy: 0.5588\n",
            "Epoch 3/50\n",
            "41/41 [==============================] - 0s 2ms/step - loss: 78.7439 - accuracy: 0.5588\n",
            "Epoch 4/50\n",
            "41/41 [==============================] - 0s 2ms/step - loss: 52.2640 - accuracy: 0.5588\n",
            "Epoch 5/50\n",
            "41/41 [==============================] - 0s 2ms/step - loss: 33.1823 - accuracy: 0.5025\n",
            "Epoch 6/50\n",
            "41/41 [==============================] - 0s 2ms/step - loss: 20.4536 - accuracy: 0.3848\n",
            "Epoch 7/50\n",
            "41/41 [==============================] - 0s 2ms/step - loss: 13.1381 - accuracy: 0.3824\n",
            "Epoch 8/50\n",
            "41/41 [==============================] - 0s 2ms/step - loss: 8.0197 - accuracy: 0.3775\n",
            "Epoch 9/50\n",
            "41/41 [==============================] - 0s 2ms/step - loss: 4.4091 - accuracy: 0.3480\n",
            "Epoch 10/50\n",
            "41/41 [==============================] - 0s 2ms/step - loss: 1.9440 - accuracy: 0.1789\n",
            "Epoch 11/50\n",
            "41/41 [==============================] - 0s 2ms/step - loss: 0.8870 - accuracy: 0.1863\n",
            "Epoch 12/50\n",
            "41/41 [==============================] - 0s 2ms/step - loss: 0.6128 - accuracy: 0.1985\n",
            "Epoch 13/50\n",
            "41/41 [==============================] - 0s 2ms/step - loss: 0.5019 - accuracy: 0.2230\n",
            "Epoch 14/50\n",
            "41/41 [==============================] - 0s 2ms/step - loss: 0.4410 - accuracy: 0.2230\n",
            "Epoch 15/50\n",
            "41/41 [==============================] - 0s 2ms/step - loss: 0.4244 - accuracy: 0.2255\n",
            "Epoch 16/50\n",
            "41/41 [==============================] - 0s 2ms/step - loss: 0.4040 - accuracy: 0.2328\n",
            "Epoch 17/50\n",
            "41/41 [==============================] - 0s 2ms/step - loss: 0.4008 - accuracy: 0.2377\n",
            "Epoch 18/50\n",
            "41/41 [==============================] - 0s 2ms/step - loss: 0.3636 - accuracy: 0.2574\n",
            "Epoch 19/50\n",
            "41/41 [==============================] - 0s 2ms/step - loss: 0.3413 - accuracy: 0.2353\n",
            "Epoch 20/50\n",
            "41/41 [==============================] - 0s 2ms/step - loss: 0.3224 - accuracy: 0.2426\n",
            "Epoch 21/50\n",
            "41/41 [==============================] - 0s 2ms/step - loss: 0.2977 - accuracy: 0.2353\n",
            "Epoch 22/50\n",
            "41/41 [==============================] - 0s 2ms/step - loss: 0.2813 - accuracy: 0.2377\n",
            "Epoch 23/50\n",
            "41/41 [==============================] - 0s 2ms/step - loss: 0.2642 - accuracy: 0.2353\n",
            "Epoch 24/50\n",
            "41/41 [==============================] - 0s 2ms/step - loss: 0.2470 - accuracy: 0.2279\n",
            "Epoch 25/50\n",
            "41/41 [==============================] - 0s 2ms/step - loss: 0.2262 - accuracy: 0.2279\n",
            "Epoch 26/50\n",
            "41/41 [==============================] - 0s 2ms/step - loss: 0.2045 - accuracy: 0.2279\n",
            "Epoch 27/50\n",
            "41/41 [==============================] - 0s 2ms/step - loss: 0.1907 - accuracy: 0.2353\n",
            "Epoch 28/50\n",
            "41/41 [==============================] - 0s 2ms/step - loss: 0.1604 - accuracy: 0.2279\n",
            "Epoch 29/50\n",
            "41/41 [==============================] - 0s 2ms/step - loss: 0.1560 - accuracy: 0.2304\n",
            "Epoch 30/50\n",
            "41/41 [==============================] - 0s 2ms/step - loss: 0.1314 - accuracy: 0.2328\n",
            "Epoch 31/50\n",
            "41/41 [==============================] - 0s 2ms/step - loss: 0.1207 - accuracy: 0.2279\n",
            "Epoch 32/50\n",
            "41/41 [==============================] - 0s 2ms/step - loss: 0.1001 - accuracy: 0.2279\n",
            "Epoch 33/50\n",
            "41/41 [==============================] - 0s 2ms/step - loss: 0.0986 - accuracy: 0.2304\n",
            "Epoch 34/50\n",
            "41/41 [==============================] - 0s 2ms/step - loss: 0.0790 - accuracy: 0.2304\n",
            "Epoch 35/50\n",
            "41/41 [==============================] - 0s 2ms/step - loss: 0.0591 - accuracy: 0.2304\n",
            "Epoch 36/50\n",
            "41/41 [==============================] - 0s 2ms/step - loss: 0.0405 - accuracy: 0.2304\n",
            "Epoch 37/50\n",
            "41/41 [==============================] - 0s 2ms/step - loss: 0.0263 - accuracy: 0.2304\n",
            "Epoch 38/50\n",
            "41/41 [==============================] - 0s 2ms/step - loss: 0.0124 - accuracy: 0.2304\n",
            "Epoch 39/50\n",
            "41/41 [==============================] - 0s 2ms/step - loss: -0.0016 - accuracy: 0.2279\n",
            "Epoch 40/50\n",
            "41/41 [==============================] - 0s 2ms/step - loss: -0.0154 - accuracy: 0.2279\n",
            "Epoch 41/50\n",
            "41/41 [==============================] - 0s 2ms/step - loss: -0.0292 - accuracy: 0.2279\n",
            "Epoch 42/50\n",
            "41/41 [==============================] - 0s 2ms/step - loss: -0.0427 - accuracy: 0.2279\n",
            "Epoch 43/50\n",
            "41/41 [==============================] - 0s 2ms/step - loss: -0.0561 - accuracy: 0.2279\n",
            "Epoch 44/50\n",
            "41/41 [==============================] - 0s 2ms/step - loss: -0.0694 - accuracy: 0.2279\n",
            "Epoch 45/50\n",
            "41/41 [==============================] - 0s 2ms/step - loss: -0.0826 - accuracy: 0.2279\n",
            "Epoch 46/50\n",
            "41/41 [==============================] - 0s 2ms/step - loss: -0.0955 - accuracy: 0.2279\n",
            "Epoch 47/50\n",
            "41/41 [==============================] - 0s 2ms/step - loss: -0.1085 - accuracy: 0.2279\n",
            "Epoch 48/50\n",
            "41/41 [==============================] - 0s 2ms/step - loss: -0.1213 - accuracy: 0.2279\n",
            "Epoch 49/50\n",
            "41/41 [==============================] - 0s 2ms/step - loss: -0.1339 - accuracy: 0.2279\n",
            "Epoch 50/50\n",
            "41/41 [==============================] - 0s 2ms/step - loss: -0.1464 - accuracy: 0.2279\n",
            "Epoch 1/50\n",
            "33/33 [==============================] - 0s 2ms/step - loss: -0.1466 - accuracy: 0.2393\n",
            "Epoch 2/50\n",
            "33/33 [==============================] - 0s 2ms/step - loss: -0.1561 - accuracy: 0.2393\n",
            "Epoch 3/50\n",
            "33/33 [==============================] - 0s 2ms/step - loss: -0.1658 - accuracy: 0.2393\n",
            "Epoch 4/50\n",
            "33/33 [==============================] - 0s 2ms/step - loss: -0.1752 - accuracy: 0.2393\n",
            "Epoch 5/50\n",
            "33/33 [==============================] - 0s 2ms/step - loss: -0.1846 - accuracy: 0.2393\n",
            "Epoch 6/50\n",
            "33/33 [==============================] - 0s 2ms/step - loss: -0.1939 - accuracy: 0.2393\n",
            "Epoch 7/50\n",
            "33/33 [==============================] - 0s 3ms/step - loss: -0.2032 - accuracy: 0.2393\n",
            "Epoch 8/50\n",
            "33/33 [==============================] - 0s 3ms/step - loss: -0.2124 - accuracy: 0.2393\n",
            "Epoch 9/50\n",
            "33/33 [==============================] - 0s 3ms/step - loss: -0.2216 - accuracy: 0.2393\n",
            "Epoch 10/50\n",
            "33/33 [==============================] - 0s 3ms/step - loss: -0.2308 - accuracy: 0.2393\n",
            "Epoch 11/50\n",
            "33/33 [==============================] - 0s 3ms/step - loss: -0.2398 - accuracy: 0.2393\n",
            "Epoch 12/50\n",
            "33/33 [==============================] - 0s 2ms/step - loss: -0.2488 - accuracy: 0.2393\n",
            "Epoch 13/50\n",
            "33/33 [==============================] - 0s 2ms/step - loss: -0.2577 - accuracy: 0.2393\n",
            "Epoch 14/50\n",
            "33/33 [==============================] - 0s 3ms/step - loss: -0.2667 - accuracy: 0.2393\n",
            "Epoch 15/50\n",
            "33/33 [==============================] - 0s 3ms/step - loss: -0.2756 - accuracy: 0.2393\n",
            "Epoch 16/50\n",
            "33/33 [==============================] - 0s 2ms/step - loss: -0.2842 - accuracy: 0.2393\n",
            "Epoch 17/50\n",
            "33/33 [==============================] - 0s 3ms/step - loss: -0.2931 - accuracy: 0.2393\n",
            "Epoch 18/50\n",
            "33/33 [==============================] - 0s 3ms/step - loss: -0.3017 - accuracy: 0.2393\n",
            "Epoch 19/50\n",
            "33/33 [==============================] - 0s 3ms/step - loss: -0.3104 - accuracy: 0.2393\n",
            "Epoch 20/50\n",
            "33/33 [==============================] - 0s 3ms/step - loss: -0.3190 - accuracy: 0.2393\n",
            "Epoch 21/50\n",
            "33/33 [==============================] - 0s 2ms/step - loss: -0.3276 - accuracy: 0.2393\n",
            "Epoch 22/50\n",
            "33/33 [==============================] - 0s 3ms/step - loss: -0.3361 - accuracy: 0.2393\n",
            "Epoch 23/50\n",
            "33/33 [==============================] - 0s 2ms/step - loss: -0.3445 - accuracy: 0.2393\n",
            "Epoch 24/50\n",
            "33/33 [==============================] - 0s 3ms/step - loss: -0.3530 - accuracy: 0.2393\n",
            "Epoch 25/50\n",
            "33/33 [==============================] - 0s 3ms/step - loss: -0.3613 - accuracy: 0.2393\n",
            "Epoch 26/50\n",
            "33/33 [==============================] - 0s 3ms/step - loss: -0.3697 - accuracy: 0.2393\n",
            "Epoch 27/50\n",
            "33/33 [==============================] - 0s 3ms/step - loss: -0.3779 - accuracy: 0.2393\n",
            "Epoch 28/50\n",
            "33/33 [==============================] - 0s 2ms/step - loss: -0.3861 - accuracy: 0.2393\n",
            "Epoch 29/50\n",
            "33/33 [==============================] - 0s 3ms/step - loss: -0.3943 - accuracy: 0.2393\n",
            "Epoch 30/50\n",
            "33/33 [==============================] - 0s 2ms/step - loss: -0.4025 - accuracy: 0.2393\n",
            "Epoch 31/50\n",
            "33/33 [==============================] - 0s 2ms/step - loss: -0.4106 - accuracy: 0.2393\n",
            "Epoch 32/50\n",
            "33/33 [==============================] - 0s 2ms/step - loss: -0.4188 - accuracy: 0.2393\n",
            "Epoch 33/50\n",
            "33/33 [==============================] - 0s 2ms/step - loss: -0.4268 - accuracy: 0.2393\n",
            "Epoch 34/50\n",
            "33/33 [==============================] - 0s 3ms/step - loss: -0.4348 - accuracy: 0.2393\n",
            "Epoch 35/50\n",
            "33/33 [==============================] - 0s 3ms/step - loss: -0.4428 - accuracy: 0.2393\n",
            "Epoch 36/50\n",
            "33/33 [==============================] - 0s 2ms/step - loss: -0.4508 - accuracy: 0.2393\n",
            "Epoch 37/50\n",
            "33/33 [==============================] - 0s 3ms/step - loss: -0.4587 - accuracy: 0.2393\n",
            "Epoch 38/50\n",
            "33/33 [==============================] - 0s 3ms/step - loss: -0.4667 - accuracy: 0.2393\n",
            "Epoch 39/50\n",
            "33/33 [==============================] - 0s 2ms/step - loss: -0.4745 - accuracy: 0.2393\n",
            "Epoch 40/50\n",
            "33/33 [==============================] - 0s 2ms/step - loss: -0.4824 - accuracy: 0.2393\n",
            "Epoch 41/50\n",
            "33/33 [==============================] - 0s 2ms/step - loss: -0.4901 - accuracy: 0.2393\n",
            "Epoch 42/50\n",
            "33/33 [==============================] - 0s 2ms/step - loss: -0.4980 - accuracy: 0.2393\n",
            "Epoch 43/50\n",
            "33/33 [==============================] - 0s 2ms/step - loss: -0.5058 - accuracy: 0.2393\n",
            "Epoch 44/50\n",
            "33/33 [==============================] - 0s 2ms/step - loss: -0.5137 - accuracy: 0.2393\n",
            "Epoch 45/50\n",
            "33/33 [==============================] - 0s 2ms/step - loss: -0.5214 - accuracy: 0.2393\n",
            "Epoch 46/50\n",
            "33/33 [==============================] - 0s 2ms/step - loss: -0.5291 - accuracy: 0.2393\n",
            "Epoch 47/50\n",
            "33/33 [==============================] - 0s 2ms/step - loss: -0.5368 - accuracy: 0.2393\n",
            "Epoch 48/50\n",
            "33/33 [==============================] - 0s 2ms/step - loss: -0.5444 - accuracy: 0.2393\n",
            "Epoch 49/50\n",
            "33/33 [==============================] - 0s 2ms/step - loss: -0.5522 - accuracy: 0.2393\n",
            "Epoch 50/50\n",
            "33/33 [==============================] - 0s 4ms/step - loss: -0.5599 - accuracy: 0.2393\n",
            "11/11 [==============================] - 1s 4ms/step - loss: -0.5638 - accuracy: 0.2393\n"
          ]
        },
        {
          "output_type": "execute_result",
          "data": {
            "text/plain": [
              "[-0.5637600421905518, 0.23926380276679993]"
            ]
          },
          "metadata": {},
          "execution_count": 62
        }
      ]
    },
    {
      "cell_type": "code",
      "source": [
        "y_pred_ann = model.predict(X_train)\n",
        "temp=model.evaluate(X_train,y_train)\n",
        "\n",
        "y_pred_ann = model.predict(X_test)\n",
        "model.evaluate(X_test,y_test)\n"
      ],
      "metadata": {
        "id": "V0CMI8llFSMq",
        "colab": {
          "base_uri": "https://localhost:8080/"
        },
        "outputId": "7922faac-045a-4817-d60f-4eee9414c45b"
      },
      "execution_count": 63,
      "outputs": [
        {
          "output_type": "stream",
          "name": "stdout",
          "text": [
            "11/11 [==============================] - 0s 3ms/step\n",
            "11/11 [==============================] - 0s 3ms/step - loss: -0.5638 - accuracy: 0.2393\n",
            "3/3 [==============================] - 0s 4ms/step\n",
            "3/3 [==============================] - 0s 6ms/step - loss: -0.6509 - accuracy: 0.1829\n"
          ]
        },
        {
          "output_type": "execute_result",
          "data": {
            "text/plain": [
              "[-0.6509498953819275, 0.18292683362960815]"
            ]
          },
          "metadata": {},
          "execution_count": 63
        }
      ]
    },
    {
      "cell_type": "code",
      "source": [
        "import matplotlib as plt\n",
        "import seaborn as sns\n",
        "sns.set_style('white')\n",
        "%matplotlib inline"
      ],
      "metadata": {
        "id": "_ebAqwNG31B9"
      },
      "execution_count": 64,
      "outputs": []
    },
    {
      "cell_type": "code",
      "source": [
        "df.head()"
      ],
      "metadata": {
        "id": "vLwg5K804fpl",
        "colab": {
          "base_uri": "https://localhost:8080/",
          "height": 206
        },
        "outputId": "99b72b1e-28e2-42b1-fbfa-5b4741472c9a"
      },
      "execution_count": 65,
      "outputs": [
        {
          "output_type": "execute_result",
          "data": {
            "text/plain": [
              "       N    P      K  n1  p1  k1\n",
              "0   80.0  8.0  123.0   1   1   1\n",
              "1   85.0  8.0   86.0   1   1   1\n",
              "2  100.0  8.0  125.0   1   1   1\n",
              "3   90.0  7.0  185.0   1   1   1\n",
              "4   80.0  8.0  123.0   1   1   1"
            ],
            "text/html": [
              "\n",
              "  <div id=\"df-bc255749-5e72-4506-84c6-1e027c5f64cb\">\n",
              "    <div class=\"colab-df-container\">\n",
              "      <div>\n",
              "<style scoped>\n",
              "    .dataframe tbody tr th:only-of-type {\n",
              "        vertical-align: middle;\n",
              "    }\n",
              "\n",
              "    .dataframe tbody tr th {\n",
              "        vertical-align: top;\n",
              "    }\n",
              "\n",
              "    .dataframe thead th {\n",
              "        text-align: right;\n",
              "    }\n",
              "</style>\n",
              "<table border=\"1\" class=\"dataframe\">\n",
              "  <thead>\n",
              "    <tr style=\"text-align: right;\">\n",
              "      <th></th>\n",
              "      <th>N</th>\n",
              "      <th>P</th>\n",
              "      <th>K</th>\n",
              "      <th>n1</th>\n",
              "      <th>p1</th>\n",
              "      <th>k1</th>\n",
              "    </tr>\n",
              "  </thead>\n",
              "  <tbody>\n",
              "    <tr>\n",
              "      <th>0</th>\n",
              "      <td>80.0</td>\n",
              "      <td>8.0</td>\n",
              "      <td>123.0</td>\n",
              "      <td>1</td>\n",
              "      <td>1</td>\n",
              "      <td>1</td>\n",
              "    </tr>\n",
              "    <tr>\n",
              "      <th>1</th>\n",
              "      <td>85.0</td>\n",
              "      <td>8.0</td>\n",
              "      <td>86.0</td>\n",
              "      <td>1</td>\n",
              "      <td>1</td>\n",
              "      <td>1</td>\n",
              "    </tr>\n",
              "    <tr>\n",
              "      <th>2</th>\n",
              "      <td>100.0</td>\n",
              "      <td>8.0</td>\n",
              "      <td>125.0</td>\n",
              "      <td>1</td>\n",
              "      <td>1</td>\n",
              "      <td>1</td>\n",
              "    </tr>\n",
              "    <tr>\n",
              "      <th>3</th>\n",
              "      <td>90.0</td>\n",
              "      <td>7.0</td>\n",
              "      <td>185.0</td>\n",
              "      <td>1</td>\n",
              "      <td>1</td>\n",
              "      <td>1</td>\n",
              "    </tr>\n",
              "    <tr>\n",
              "      <th>4</th>\n",
              "      <td>80.0</td>\n",
              "      <td>8.0</td>\n",
              "      <td>123.0</td>\n",
              "      <td>1</td>\n",
              "      <td>1</td>\n",
              "      <td>1</td>\n",
              "    </tr>\n",
              "  </tbody>\n",
              "</table>\n",
              "</div>\n",
              "      <button class=\"colab-df-convert\" onclick=\"convertToInteractive('df-bc255749-5e72-4506-84c6-1e027c5f64cb')\"\n",
              "              title=\"Convert this dataframe to an interactive table.\"\n",
              "              style=\"display:none;\">\n",
              "        \n",
              "  <svg xmlns=\"http://www.w3.org/2000/svg\" height=\"24px\"viewBox=\"0 0 24 24\"\n",
              "       width=\"24px\">\n",
              "    <path d=\"M0 0h24v24H0V0z\" fill=\"none\"/>\n",
              "    <path d=\"M18.56 5.44l.94 2.06.94-2.06 2.06-.94-2.06-.94-.94-2.06-.94 2.06-2.06.94zm-11 1L8.5 8.5l.94-2.06 2.06-.94-2.06-.94L8.5 2.5l-.94 2.06-2.06.94zm10 10l.94 2.06.94-2.06 2.06-.94-2.06-.94-.94-2.06-.94 2.06-2.06.94z\"/><path d=\"M17.41 7.96l-1.37-1.37c-.4-.4-.92-.59-1.43-.59-.52 0-1.04.2-1.43.59L10.3 9.45l-7.72 7.72c-.78.78-.78 2.05 0 2.83L4 21.41c.39.39.9.59 1.41.59.51 0 1.02-.2 1.41-.59l7.78-7.78 2.81-2.81c.8-.78.8-2.07 0-2.86zM5.41 20L4 18.59l7.72-7.72 1.47 1.35L5.41 20z\"/>\n",
              "  </svg>\n",
              "      </button>\n",
              "      \n",
              "  <style>\n",
              "    .colab-df-container {\n",
              "      display:flex;\n",
              "      flex-wrap:wrap;\n",
              "      gap: 12px;\n",
              "    }\n",
              "\n",
              "    .colab-df-convert {\n",
              "      background-color: #E8F0FE;\n",
              "      border: none;\n",
              "      border-radius: 50%;\n",
              "      cursor: pointer;\n",
              "      display: none;\n",
              "      fill: #1967D2;\n",
              "      height: 32px;\n",
              "      padding: 0 0 0 0;\n",
              "      width: 32px;\n",
              "    }\n",
              "\n",
              "    .colab-df-convert:hover {\n",
              "      background-color: #E2EBFA;\n",
              "      box-shadow: 0px 1px 2px rgba(60, 64, 67, 0.3), 0px 1px 3px 1px rgba(60, 64, 67, 0.15);\n",
              "      fill: #174EA6;\n",
              "    }\n",
              "\n",
              "    [theme=dark] .colab-df-convert {\n",
              "      background-color: #3B4455;\n",
              "      fill: #D2E3FC;\n",
              "    }\n",
              "\n",
              "    [theme=dark] .colab-df-convert:hover {\n",
              "      background-color: #434B5C;\n",
              "      box-shadow: 0px 1px 3px 1px rgba(0, 0, 0, 0.15);\n",
              "      filter: drop-shadow(0px 1px 2px rgba(0, 0, 0, 0.3));\n",
              "      fill: #FFFFFF;\n",
              "    }\n",
              "  </style>\n",
              "\n",
              "      <script>\n",
              "        const buttonEl =\n",
              "          document.querySelector('#df-bc255749-5e72-4506-84c6-1e027c5f64cb button.colab-df-convert');\n",
              "        buttonEl.style.display =\n",
              "          google.colab.kernel.accessAllowed ? 'block' : 'none';\n",
              "\n",
              "        async function convertToInteractive(key) {\n",
              "          const element = document.querySelector('#df-bc255749-5e72-4506-84c6-1e027c5f64cb');\n",
              "          const dataTable =\n",
              "            await google.colab.kernel.invokeFunction('convertToInteractive',\n",
              "                                                     [key], {});\n",
              "          if (!dataTable) return;\n",
              "\n",
              "          const docLinkHtml = 'Like what you see? Visit the ' +\n",
              "            '<a target=\"_blank\" href=https://colab.research.google.com/notebooks/data_table.ipynb>data table notebook</a>'\n",
              "            + ' to learn more about interactive tables.';\n",
              "          element.innerHTML = '';\n",
              "          dataTable['output_type'] = 'display_data';\n",
              "          await google.colab.output.renderOutput(dataTable, element);\n",
              "          const docLink = document.createElement('div');\n",
              "          docLink.innerHTML = docLinkHtml;\n",
              "          element.appendChild(docLink);\n",
              "        }\n",
              "      </script>\n",
              "    </div>\n",
              "  </div>\n",
              "  "
            ]
          },
          "metadata": {},
          "execution_count": 65
        }
      ]
    },
    {
      "cell_type": "code",
      "source": [
        "#SVM Clasiification\n",
        "\n",
        "#Import svm model\n",
        "from sklearn import svm\n",
        "\n",
        "clf1=svm.SVC(probability=True)\n",
        "\n",
        "#Create a svm Classifier\n",
        "clf1 = svm.SVC(kernel='linear') # Linear Kernel\n",
        "clf2 = svm.SVC(kernel='linear')\n",
        "clf3 = svm.SVC(kernel='linear')\n",
        "\n",
        "clf1=svm.SVC(probability=True)\n",
        "clf2=svm.SVC(probability=True)\n",
        "clf3=svm.SVC(probability=True)\n",
        "\n",
        "#Train the model using the training sets\n",
        "clf1.fit(X_train, Y_train)\n",
        "clf2.fit(X_train1, Y_train1)\n",
        "clf3.fit(X_train2, Y_train2)\n",
        "\n",
        "#Predict the response for test dataset\n",
        "y_pred1 = clf1.predict(X_test)\n",
        "y_pred2 = clf2.predict(X_test1)\n",
        "y_pred3 = clf3.predict(X_test2)\n",
        "\n"
      ],
      "metadata": {
        "id": "zs4b6vP24mr-",
        "colab": {
          "base_uri": "https://localhost:8080/"
        },
        "outputId": "83723384-1777-4f44-e211-ab5db91fbc24"
      },
      "execution_count": 66,
      "outputs": [
        {
          "output_type": "stream",
          "name": "stderr",
          "text": [
            "/usr/local/lib/python3.8/dist-packages/sklearn/utils/validation.py:993: DataConversionWarning: A column-vector y was passed when a 1d array was expected. Please change the shape of y to (n_samples, ), for example using ravel().\n",
            "  y = column_or_1d(y, warn=True)\n",
            "/usr/local/lib/python3.8/dist-packages/sklearn/utils/validation.py:993: DataConversionWarning: A column-vector y was passed when a 1d array was expected. Please change the shape of y to (n_samples, ), for example using ravel().\n",
            "  y = column_or_1d(y, warn=True)\n",
            "/usr/local/lib/python3.8/dist-packages/sklearn/utils/validation.py:993: DataConversionWarning: A column-vector y was passed when a 1d array was expected. Please change the shape of y to (n_samples, ), for example using ravel().\n",
            "  y = column_or_1d(y, warn=True)\n"
          ]
        }
      ]
    },
    {
      "cell_type": "code",
      "source": [
        "from sklearn import metrics\n",
        "\n",
        "# Model Accuracy: how often is the classifier correct?\n",
        "Acc_SVM_N=metrics.accuracy_score(Y_test, y_pred1)*100\n",
        "Acc_SVM_P=metrics.accuracy_score(Y_test1, y_pred2)*100\n",
        "Acc_SVM_K=metrics.accuracy_score(Y_test2, y_pred3)*100\n",
        "\n",
        "print(\"Accuracy for N:\",Acc_SVM_N)\n",
        "print(\"Accuracy for P:\",Acc_SVM_P)\n",
        "print(\"Accuracy for K:\",Acc_SVM_K)"
      ],
      "metadata": {
        "id": "QE9yWPGwBkhi",
        "colab": {
          "base_uri": "https://localhost:8080/"
        },
        "outputId": "768c2241-f574-4778-904c-12123926400d"
      },
      "execution_count": 67,
      "outputs": [
        {
          "output_type": "stream",
          "name": "stdout",
          "text": [
            "Accuracy for N: 42.68292682926829\n",
            "Accuracy for P: 100.0\n",
            "Accuracy for K: 95.1219512195122\n"
          ]
        }
      ]
    },
    {
      "cell_type": "code",
      "source": [
        "# CONFUSION MATRIX FOR SVM Classification \n",
        "from sklearn import metrics\n",
        "import matplotlib.pyplot as plt\n",
        "import seaborn as sns\n",
        "cf_matrix = metrics.confusion_matrix (Y_test, y_pred1)\n",
        "print(cf_matrix)\n",
        "print(metrics.classification_report(Y_test, y_pred1))\n",
        "\n",
        "plt.figure(figsize=(12,10))\n",
        "sns.heatmap(cf_matrix, annot=True)\n",
        "plt.title('Confusion Matrix- svm classifier for N')\n",
        "plt.xlabel('Actal Values')\n",
        "plt.ylabel('Predicted Values')\n",
        "plt.show()\n",
        "\n",
        "\n",
        "cf_matrix1 = metrics.confusion_matrix (Y_test1, y_pred2)\n",
        "print(cf_matrix)\n",
        "print(metrics.classification_report(Y_test1, y_pred2))\n",
        "\n",
        "plt.figure(figsize=(12,10))\n",
        "sns.heatmap(cf_matrix, annot=True)\n",
        "plt.title('Confusion Matrix- svm classifier for P')\n",
        "plt.xlabel('Actal Values')\n",
        "plt.ylabel('Predicted Values')\n",
        "plt.show()\n",
        "\n",
        "\n",
        "\n",
        "cf_matrix2 = metrics.confusion_matrix (Y_test2, y_pred3)\n",
        "print(cf_matrix)\n",
        "print(metrics.classification_report(Y_test2, y_pred3))\n",
        "\n",
        "plt.figure(figsize=(12,10))\n",
        "sns.heatmap(cf_matrix, annot=True)\n",
        "plt.title('Confusion Matrix- svm classifier for K')\n",
        "plt.xlabel('Actal Values')\n",
        "plt.ylabel('Predicted Values')\n",
        "plt.show()\n",
        "\n",
        "\n"
      ],
      "metadata": {
        "id": "NuR6f1MEF_kV",
        "colab": {
          "base_uri": "https://localhost:8080/",
          "height": 1000
        },
        "outputId": "0a76d138-bf76-4325-ba74-9afd721fed1a"
      },
      "execution_count": 68,
      "outputs": [
        {
          "output_type": "stream",
          "name": "stdout",
          "text": [
            "[[27  0 12]\n",
            " [11  0  5]\n",
            " [19  0  8]]\n",
            "              precision    recall  f1-score   support\n",
            "\n",
            "           0       0.47      0.69      0.56        39\n",
            "           1       0.00      0.00      0.00        16\n",
            "           2       0.32      0.30      0.31        27\n",
            "\n",
            "    accuracy                           0.43        82\n",
            "   macro avg       0.26      0.33      0.29        82\n",
            "weighted avg       0.33      0.43      0.37        82\n",
            "\n"
          ]
        },
        {
          "output_type": "stream",
          "name": "stderr",
          "text": [
            "/usr/local/lib/python3.8/dist-packages/sklearn/metrics/_classification.py:1318: UndefinedMetricWarning: Precision and F-score are ill-defined and being set to 0.0 in labels with no predicted samples. Use `zero_division` parameter to control this behavior.\n",
            "  _warn_prf(average, modifier, msg_start, len(result))\n",
            "/usr/local/lib/python3.8/dist-packages/sklearn/metrics/_classification.py:1318: UndefinedMetricWarning: Precision and F-score are ill-defined and being set to 0.0 in labels with no predicted samples. Use `zero_division` parameter to control this behavior.\n",
            "  _warn_prf(average, modifier, msg_start, len(result))\n",
            "/usr/local/lib/python3.8/dist-packages/sklearn/metrics/_classification.py:1318: UndefinedMetricWarning: Precision and F-score are ill-defined and being set to 0.0 in labels with no predicted samples. Use `zero_division` parameter to control this behavior.\n",
            "  _warn_prf(average, modifier, msg_start, len(result))\n"
          ]
        },
        {
          "output_type": "display_data",
          "data": {
            "text/plain": [
              "<Figure size 864x720 with 2 Axes>"
            ],
            "image/png": "[encoded data removed]"
          },
          "metadata": {
            "needs_background": "light"
          }
        },
        {
          "output_type": "stream",
          "name": "stdout",
          "text": [
            "[[27  0 12]\n",
            " [11  0  5]\n",
            " [19  0  8]]\n",
            "              precision    recall  f1-score   support\n",
            "\n",
            "           0       1.00      1.00      1.00         3\n",
            "           1       1.00      1.00      1.00        53\n",
            "           2       1.00      1.00      1.00        26\n",
            "\n",
            "    accuracy                           1.00        82\n",
            "   macro avg       1.00      1.00      1.00        82\n",
            "weighted avg       1.00      1.00      1.00        82\n",
            "\n"
          ]
        },
        {
          "output_type": "display_data",
          "data": {
            "text/plain": [
              "<Figure size 864x720 with 2 Axes>"
            ],
            "image/png": "[encoded data removed]"
          },
          "metadata": {
            "needs_background": "light"
          }
        },
        {
          "output_type": "stream",
          "name": "stdout",
          "text": [
            "[[27  0 12]\n",
            " [11  0  5]\n",
            " [19  0  8]]\n",
            "              precision    recall  f1-score   support\n",
            "\n",
            "           0       0.50      1.00      0.67         1\n",
            "           1       1.00      0.93      0.97        46\n",
            "           2       0.92      0.97      0.94        35\n",
            "\n",
            "    accuracy                           0.95        82\n",
            "   macro avg       0.81      0.97      0.86        82\n",
            "weighted avg       0.96      0.95      0.95        82\n",
            "\n"
          ]
        },
        {
          "output_type": "display_data",
          "data": {
            "text/plain": [
              "<Figure size 864x720 with 2 Axes>"
            ],
            "image/png": "[encoded data removed]"
          },
          "metadata": {
            "needs_background": "light"
          }
        }
      ]
    },
    {
      "cell_type": "code",
      "source": [
        "import pandas as pd\n",
        "from sklearn.tree import DecisionTreeClassifier # Import Decision Tree Classifier\n",
        "from sklearn.model_selection import train_test_split # Import train_test_split function\n",
        "from sklearn import metrics #Import scikit-learn metrics module for accuracy calculation\n",
        "# Create Decision Tree classifer object\n",
        "clf1_DC = DecisionTreeClassifier()\n",
        "clf2_DC = DecisionTreeClassifier()\n",
        "clf3_DC = DecisionTreeClassifier()\n",
        "\n",
        "#Train the model using the training sets\n",
        "clf1_DC.fit(X_train, Y_train)\n",
        "clf2_DC.fit(X_train1, Y_train1)\n",
        "clf3_DC.fit(X_train2, Y_train2)\n",
        "\n",
        "#Predict the response for test dataset\n",
        "y_pred1_dc = clf1_DC.predict(X_test)\n",
        "y_pred2_dc = clf2_DC.predict(X_test1)\n",
        "y_pred3_dc = clf3_DC.predict(X_test2)"
      ],
      "metadata": {
        "id": "4L_wZc5LEvm5"
      },
      "execution_count": 69,
      "outputs": []
    },
    {
      "cell_type": "code",
      "source": [
        "# Model Accuracy: how often is the classifier correct?\n",
        "\n",
        "Acc_DC_N=metrics.accuracy_score(Y_test, y_pred1_dc)*100\n",
        "Acc_DC_P=metrics.accuracy_score(Y_test1, y_pred2_dc)*100\n",
        "Acc_DC_K=metrics.accuracy_score(Y_test2, y_pred3_dc)*100\n",
        "\n",
        "print(\"Accuracy for N:\",Acc_DC_N)\n",
        "print(\"Accuracy for P:\",Acc_DC_P)\n",
        "print(\"Accuracy for K:\",Acc_DC_K)\n"
      ],
      "metadata": {
        "id": "uB_bCLhFFeXx",
        "colab": {
          "base_uri": "https://localhost:8080/"
        },
        "outputId": "9656a482-f4fb-4031-c6c3-ed0070b7b49d"
      },
      "execution_count": 70,
      "outputs": [
        {
          "output_type": "stream",
          "name": "stdout",
          "text": [
            "Accuracy for N: 35.36585365853659\n",
            "Accuracy for P: 100.0\n",
            "Accuracy for K: 98.78048780487805\n"
          ]
        }
      ]
    },
    {
      "cell_type": "code",
      "source": [
        "# CONFUSION MATRIX FOR Decision Tree Classification \n",
        "from sklearn import metrics\n",
        "cf_matrix = metrics.confusion_matrix (Y_test, y_pred1_dc)\n",
        "print(cf_matrix)\n",
        "print(metrics.classification_report(Y_test, y_pred1_dc))\n",
        "\n",
        "plt.figure(figsize=(12,10))\n",
        "sns.heatmap(cf_matrix, annot=True)\n",
        "plt.title('Confusion Matrix - DecisionTree Classification for N')\n",
        "plt.xlabel('Actal Values')\n",
        "plt.ylabel('Predicted Values')\n",
        "plt.show()\n",
        "\n",
        "\n",
        "cf_matrix1 = metrics.confusion_matrix (Y_test1, y_pred2_dc)\n",
        "print(cf_matrix)\n",
        "print(metrics.classification_report(Y_test1, y_pred2_dc))\n",
        "\n",
        "plt.figure(figsize=(12,10))\n",
        "sns.heatmap(cf_matrix, annot=True)\n",
        "plt.title('Confusion Matrix - DecisionTree Classification for P')\n",
        "plt.xlabel('Actal Values')\n",
        "plt.ylabel('Predicted Values')\n",
        "plt.show()\n",
        "\n",
        "cf_matrix2 = metrics.confusion_matrix (Y_test2, y_pred3_dc)\n",
        "print(cf_matrix)\n",
        "print(metrics.classification_report(Y_test2, y_pred3_dc))\n",
        "\n",
        "plt.figure(figsize=(12,10))\n",
        "sns.heatmap(cf_matrix, annot=True)\n",
        "plt.title('Confusion Matrix - DecisionTree Classification for K')\n",
        "plt.xlabel('Actal Values')\n",
        "plt.ylabel('Predicted Values')\n",
        "plt.show()\n"
      ],
      "metadata": {
        "id": "v1ivsiYxG2Vw",
        "colab": {
          "base_uri": "https://localhost:8080/",
          "height": 1000
        },
        "outputId": "20835c1e-6822-4d06-ff4d-9757dba161fd"
      },
      "execution_count": 71,
      "outputs": [
        {
          "output_type": "stream",
          "name": "stdout",
          "text": [
            "[[15  9 15]\n",
            " [ 9  3  4]\n",
            " [14  2 11]]\n",
            "              precision    recall  f1-score   support\n",
            "\n",
            "           0       0.39      0.38      0.39        39\n",
            "           1       0.21      0.19      0.20        16\n",
            "           2       0.37      0.41      0.39        27\n",
            "\n",
            "    accuracy                           0.35        82\n",
            "   macro avg       0.33      0.33      0.33        82\n",
            "weighted avg       0.35      0.35      0.35        82\n",
            "\n"
          ]
        },
        {
          "output_type": "display_data",
          "data": {
            "text/plain": [
              "<Figure size 864x720 with 2 Axes>"
            ],
            "image/png": "[encoded data removed]"
          },
          "metadata": {
            "needs_background": "light"
          }
        },
        {
          "output_type": "stream",
          "name": "stdout",
          "text": [
            "[[15  9 15]\n",
            " [ 9  3  4]\n",
            " [14  2 11]]\n",
            "              precision    recall  f1-score   support\n",
            "\n",
            "           0       1.00      1.00      1.00         3\n",
            "           1       1.00      1.00      1.00        53\n",
            "           2       1.00      1.00      1.00        26\n",
            "\n",
            "    accuracy                           1.00        82\n",
            "   macro avg       1.00      1.00      1.00        82\n",
            "weighted avg       1.00      1.00      1.00        82\n",
            "\n"
          ]
        },
        {
          "output_type": "display_data",
          "data": {
            "text/plain": [
              "<Figure size 864x720 with 2 Axes>"
            ],
            "image/png": "[encoded data removed]"
          },
          "metadata": {
            "needs_background": "light"
          }
        },
        {
          "output_type": "stream",
          "name": "stdout",
          "text": [
            "[[15  9 15]\n",
            " [ 9  3  4]\n",
            " [14  2 11]]\n",
            "              precision    recall  f1-score   support\n",
            "\n",
            "           0       0.50      1.00      0.67         1\n",
            "           1       1.00      1.00      1.00        46\n",
            "           2       1.00      0.97      0.99        35\n",
            "\n",
            "    accuracy                           0.99        82\n",
            "   macro avg       0.83      0.99      0.88        82\n",
            "weighted avg       0.99      0.99      0.99        82\n",
            "\n"
          ]
        },
        {
          "output_type": "display_data",
          "data": {
            "text/plain": [
              "<Figure size 864x720 with 2 Axes>"
            ],
            "image/png": "[encoded data removed]"
          },
          "metadata": {
            "needs_background": "light"
          }
        }
      ]
    },
    {
      "cell_type": "code",
      "source": [
        "data = {'Accuracy for proposed MLP-N ':Pr_MLP_N,'Accuracy for MLP without Novalty-N ':MLP_N_rs, 'Accuracy for SVM -N':Acc_SVM_N,\n",
        "        'Accuracy for Decision tree -N':Acc_DC_N}\n",
        "auc = list(data.keys())\n",
        "values = list(data.values())\n",
        "  \n",
        "fig = plt.figure(figsize = (12, 10))\n",
        " \n",
        "# creating the bar plot\n",
        "plt.bar(auc, values, color ='RED',\n",
        "        width = 0.4)\n",
        " \n",
        "plt.xlabel(\"Accuracy for N\")\n",
        "plt.ylabel(\"Predicted Value in percentage\")\n",
        "plt.title(\"Comparision graph for N \")\n",
        "plt.show()"
      ],
      "metadata": {
        "id": "YB720Uz5gk0n",
        "colab": {
          "base_uri": "https://localhost:8080/",
          "height": 621
        },
        "outputId": "a7b8aa80-073f-479c-b18c-8860cfb92df8"
      },
      "execution_count": 72,
      "outputs": [
        {
          "output_type": "display_data",
          "data": {
            "text/plain": [
              "<Figure size 864x720 with 1 Axes>"
            ],
            "image/png": "[encoded data removed]"
          },
          "metadata": {
            "needs_background": "light"
          }
        }
      ]
    },
    {
      "cell_type": "code",
      "source": [
        "data = {'Accuracy for proposed MLP-P ':Pr_MLP_P,'Accuracy for MLP without Novalty-P ':MLP_P_rs, 'Accuracy for SVM-P':Acc_SVM_P,\n",
        "        'Accuracy for Decision tree- P':Acc_DC_P}\n",
        "auc = list(data.keys())\n",
        "values = list(data.values())\n",
        "  \n",
        "fig = plt.figure(figsize = (12, 10))\n",
        " \n",
        "# creating the bar plot\n",
        "plt.bar(auc, values, color ='Green',\n",
        "        width = 0.4)\n",
        " \n",
        "plt.xlabel(\"Accuracy for P\")\n",
        "plt.ylabel(\"Predicted Value in percentage\")\n",
        "plt.title(\"Comparision graph for P \")\n",
        "plt.show()"
      ],
      "metadata": {
        "id": "cf1mDAX4kCWz",
        "colab": {
          "base_uri": "https://localhost:8080/",
          "height": 621
        },
        "outputId": "894a0cde-994e-43f4-e9ef-4950dca66348"
      },
      "execution_count": 73,
      "outputs": [
        {
          "output_type": "display_data",
          "data": {
            "text/plain": [
              "<Figure size 864x720 with 1 Axes>"
            ],
            "image/png": "[encoded data removed]"
          },
          "metadata": {
            "needs_background": "light"
          }
        }
      ]
    },
    {
      "cell_type": "code",
      "source": [
        "data = {'Accuracy for proposed MLP-K ':Pr_MLP_K,'Accuracy for MLP without Novalty-K ':MLP_K_rs, 'Accuracy for SVM-K':Acc_SVM_K,\n",
        "        'Accuracy for Decision tree- K':Acc_DC_K}\n",
        "auc = list(data.keys())\n",
        "values = list(data.values())\n",
        "  \n",
        "fig = plt.figure(figsize = (12, 10))\n",
        " \n",
        "# creating the bar plot\n",
        "plt.bar(auc, values, color ='blue',\n",
        "        width = 0.4)\n",
        " \n",
        "plt.xlabel(\"Accuracy for K\")\n",
        "plt.ylabel(\"Predicted Value in percentage\")\n",
        "plt.title(\"Comparision graph for K \")\n",
        "plt.show()"
      ],
      "metadata": {
        "id": "C5H-Sg1FkyIT",
        "colab": {
          "base_uri": "https://localhost:8080/",
          "height": 621
        },
        "outputId": "100ade56-2cbc-4609-f619-2f0a95220067"
      },
      "execution_count": 74,
      "outputs": [
        {
          "output_type": "display_data",
          "data": {
            "text/plain": [
              "<Figure size 864x720 with 1 Axes>"
            ],
            "image/png": "[encoded data removed]"
          },
          "metadata": {
            "needs_background": "light"
          }
        }
      ]
    },
    {
      "cell_type": "code",
      "source": [
        "values, data\n"
      ],
      "metadata": {
        "id": "9kctCVEh7kJX",
        "colab": {
          "base_uri": "https://localhost:8080/"
        },
        "outputId": "6b2ee950-7df8-4030-f9ff-b9449b90a24d"
      },
      "execution_count": 75,
      "outputs": [
        {
          "output_type": "execute_result",
          "data": {
            "text/plain": [
              "([95.1219512195122, 23.170731707317074, 95.1219512195122, 98.78048780487805],\n",
              " {'Accuracy for proposed MLP-K ': 95.1219512195122,\n",
              "  'Accuracy for MLP without Novalty-K ': 23.170731707317074,\n",
              "  'Accuracy for SVM-K': 95.1219512195122,\n",
              "  'Accuracy for Decision tree- K': 98.78048780487805})"
            ]
          },
          "metadata": {},
          "execution_count": 75
        }
      ]
    },
    {
      "cell_type": "code",
      "source": [
        "X_test.shape"
      ],
      "metadata": {
        "id": "8_nxNLsw45VQ",
        "colab": {
          "base_uri": "https://localhost:8080/"
        },
        "outputId": "6b58aee3-5221-42d2-c427-52b62554fff3"
      },
      "execution_count": 76,
      "outputs": [
        {
          "output_type": "execute_result",
          "data": {
            "text/plain": [
              "(82, 3)"
            ]
          },
          "metadata": {},
          "execution_count": 76
        }
      ]
    },
    {
      "cell_type": "code",
      "source": [
        "from sklearn.metrics import roc_curve, roc_auc_score\n",
        "y_pred1_probs = clf1.predict_proba(X_test)\n",
        "y_pred1_dc_probs = clf1_DC.predict_proba(X_test)\n",
        "\n",
        "# auc scores\n",
        "auc_score1 = roc_auc_score(Y_test, y_pred_MLP_probs,multi_class='ovr')\n",
        "auc_score2 = roc_auc_score(Y_test, y_pred_MLP_WN_probs,multi_class='ovr')\n",
        "auc_score3 = roc_auc_score(Y_test, y_pred1_probs,multi_class='ovr')\n",
        "auc_score4 = roc_auc_score(Y_test, y_pred1_dc_probs,multi_class='ovr')\n",
        "\n",
        "print(auc_score1, auc_score2,auc_score3,auc_score4)"
      ],
      "metadata": {
        "id": "6A1tmnKMme_k",
        "colab": {
          "base_uri": "https://localhost:8080/"
        },
        "outputId": "737f43de-60f5-4560-9d92-b7fc7843930d"
      },
      "execution_count": 77,
      "outputs": [
        {
          "output_type": "stream",
          "name": "stdout",
          "text": [
            "1.0 0.9979797979797981 0.4304244554971299 0.49023687606536437\n"
          ]
        }
      ]
    },
    {
      "cell_type": "code",
      "source": [
        "data = {'MLP NOVALTY FOR N':auc_score1,'MLP WITHOUT NOVALTY FOR N':auc_score2, 'SVM FOR N':auc_score3,\n",
        "        'Decision tree FOR N':auc_score4}\n",
        "auc = list(data.keys())\n",
        "values = list(data.values())\n",
        "  \n",
        "fig = plt.figure(figsize = (10, 5))\n",
        " \n",
        "# creating the bar plot\n",
        "plt.bar(auc, values, color ='maroon',\n",
        "        width = 0.4)\n",
        " \n",
        "plt.xlabel(\"False Positive Rate\")\n",
        "plt.ylabel(\"True Positive rate\")\n",
        "plt.title(\"Comparision graph \")\n",
        "plt.show()"
      ],
      "metadata": {
        "id": "SpuHdc13PmN3",
        "colab": {
          "base_uri": "https://localhost:8080/",
          "height": 350
        },
        "outputId": "78970324-ea28-4516-afcc-801deb083e2c"
      },
      "execution_count": 78,
      "outputs": [
        {
          "output_type": "display_data",
          "data": {
            "text/plain": [
              "<Figure size 720x360 with 1 Axes>"
            ],
            "image/png": "[encoded data removed]"
          },
          "metadata": {
            "needs_background": "light"
          }
        }
      ]
    },
    {
      "cell_type": "code",
      "source": [
        "from sklearn.metrics import roc_curve, roc_auc_score\n",
        "y_pred_MLP1_probs = classifier.predict_proba(X_test1)\n",
        "y_pred_MLP1_WN_probs = classifiers.predict_proba(X_test1)\n",
        "y_pred2_probs = clf2.predict_proba(X_test1)\n",
        "y_pred2_dc_probs = clf2_DC.predict_proba(X_test1)\n",
        "\n",
        "# auc scores\n",
        "auc_score1 = roc_auc_score(Y_test1, y_pred_MLP1_probs,multi_class='ovr')\n",
        "auc_score2 = roc_auc_score(Y_test1, y_pred_MLP1_WN_probs,multi_class='ovr')\n",
        "auc_score3 = roc_auc_score(Y_test1, y_pred2_probs,multi_class='ovr')\n",
        "auc_score4 = roc_auc_score(Y_test1, y_pred2_dc_probs,multi_class='ovr')\n",
        "\n",
        "print(auc_score1, auc_score2,auc_score3,auc_score4)\n",
        "\n",
        "data = {'MLP NOVALTY FOR P':auc_score1,'MLP WITHOUT NOVALTY FOR P':auc_score2, 'SVM FOR P':auc_score3,\n",
        "        'Decision tree FOR P':auc_score4}\n",
        "auc = list(data.keys())\n",
        "values = list(data.values())\n",
        "  \n",
        "fig = plt.figure(figsize = (10, 5))\n",
        " \n",
        "# creating the bar plot\n",
        "plt.bar(auc, values, color ='maroon',\n",
        "        width = 0.4)\n",
        " \n",
        "plt.xlabel(\"False Positive Rate\")\n",
        "plt.ylabel(\"True Positive rate\")\n",
        "plt.title(\"Comparision graph \")\n",
        "plt.show()"
      ],
      "metadata": {
        "id": "w35iRk9iwPHC",
        "colab": {
          "base_uri": "https://localhost:8080/",
          "height": 630
        },
        "outputId": "e37aad94-69ae-4036-a22a-04493e4366a7"
      },
      "execution_count": 79,
      "outputs": [
        {
          "output_type": "stream",
          "name": "stdout",
          "text": [
            "0.9821428571428571 0.5256420877812623 1.0 1.0\n"
          ]
        },
        {
          "output_type": "stream",
          "name": "stderr",
          "text": [
            "/usr/local/lib/python3.8/dist-packages/sklearn/base.py:493: FutureWarning: The feature names should match those that were passed during fit. Starting version 1.2, an error will be raised.\n",
            "Feature names unseen at fit time:\n",
            "- P\n",
            "Feature names seen at fit time, yet now missing:\n",
            "- N\n",
            "\n",
            "  warnings.warn(message, FutureWarning)\n",
            "/usr/local/lib/python3.8/dist-packages/sklearn/base.py:493: FutureWarning: The feature names should match those that were passed during fit. Starting version 1.2, an error will be raised.\n",
            "Feature names unseen at fit time:\n",
            "- P\n",
            "Feature names seen at fit time, yet now missing:\n",
            "- N\n",
            "\n",
            "  warnings.warn(message, FutureWarning)\n"
          ]
        },
        {
          "output_type": "display_data",
          "data": {
            "text/plain": [
              "<Figure size 720x360 with 1 Axes>"
            ],
            "image/png": "[encoded data removed]"
          },
          "metadata": {
            "needs_background": "light"
          }
        }
      ]
    },
    {
      "cell_type": "code",
      "source": [
        "from sklearn.metrics import roc_curve, roc_auc_score\n",
        "y_pred_MLP2_probs = classifier.predict_proba(X_test2)\n",
        "y_pred_MLP2_WN_probs = classifiers.predict_proba(X_test2)\n",
        "y_pred3_probs = clf2.predict_proba(X_test2)\n",
        "y_pred3_dc_probs = clf2_DC.predict_proba(X_test2)\n",
        "\n",
        "\n",
        "# auc scores\n",
        "auc_score1 = roc_auc_score(Y_test2, y_pred_MLP2_probs,multi_class='ovr')\n",
        "auc_score2 = roc_auc_score(Y_test2, y_pred_MLP2_WN_probs,multi_class='ovr')\n",
        "auc_score3 = roc_auc_score(Y_test2, y_pred3_probs,multi_class='ovr')\n",
        "auc_score4 = roc_auc_score(Y_test2, y_pred3_dc_probs,multi_class='ovr')\n",
        "\n",
        "print(auc_score1, auc_score2,auc_score3,auc_score4)\n",
        "\n",
        "data = {'MLP NOVALTY FOR K':auc_score1,'MLP WITHOUT NOVALTY FOR K':auc_score2, 'SVM FOR K':auc_score3,\n",
        "        'Decision tree FOR K':auc_score4}\n",
        "auc = list(data.keys())\n",
        "values = list(data.values())\n",
        "  \n",
        "fig = plt.figure(figsize = (10, 5))\n",
        " \n",
        "# creating the bar plot\n",
        "plt.bar(auc, values, color ='maroon',\n",
        "        width = 0.4)\n",
        " \n",
        "plt.xlabel(\"False Positive Rate\")\n",
        "plt.ylabel(\"True Positive rate\")\n",
        "plt.title(\"Comparision graph \")\n",
        "plt.show()"
      ],
      "metadata": {
        "id": "9X8p2_7V2CvO",
        "colab": {
          "base_uri": "https://localhost:8080/",
          "height": 873
        },
        "outputId": "cd465189-5c19-4b4a-da20-939013def948"
      },
      "execution_count": 80,
      "outputs": [
        {
          "output_type": "stream",
          "name": "stderr",
          "text": [
            "/usr/local/lib/python3.8/dist-packages/sklearn/base.py:493: FutureWarning: The feature names should match those that were passed during fit. Starting version 1.2, an error will be raised.\n",
            "Feature names unseen at fit time:\n",
            "- K\n",
            "Feature names seen at fit time, yet now missing:\n",
            "- N\n",
            "\n",
            "  warnings.warn(message, FutureWarning)\n",
            "/usr/local/lib/python3.8/dist-packages/sklearn/base.py:493: FutureWarning: The feature names should match those that were passed during fit. Starting version 1.2, an error will be raised.\n",
            "Feature names unseen at fit time:\n",
            "- K\n",
            "Feature names seen at fit time, yet now missing:\n",
            "- N\n",
            "\n",
            "  warnings.warn(message, FutureWarning)\n",
            "/usr/local/lib/python3.8/dist-packages/sklearn/base.py:493: FutureWarning: The feature names should match those that were passed during fit. Starting version 1.2, an error will be raised.\n",
            "Feature names unseen at fit time:\n",
            "- K\n",
            "Feature names seen at fit time, yet now missing:\n",
            "- P\n",
            "\n",
            "  warnings.warn(message, FutureWarning)\n",
            "/usr/local/lib/python3.8/dist-packages/sklearn/base.py:493: FutureWarning: The feature names should match those that were passed during fit. Starting version 1.2, an error will be raised.\n",
            "Feature names unseen at fit time:\n",
            "- K\n",
            "Feature names seen at fit time, yet now missing:\n",
            "- P\n",
            "\n",
            "  warnings.warn(message, FutureWarning)\n"
          ]
        },
        {
          "output_type": "stream",
          "name": "stdout",
          "text": [
            "0.673758865248227 0.673758865248227 0.4935958931487763 0.5\n"
          ]
        },
        {
          "output_type": "display_data",
          "data": {
            "text/plain": [
              "<Figure size 720x360 with 1 Axes>"
            ],
            "image/png": "[encoded data removed]"
          },
          "metadata": {
            "needs_background": "light"
          }
        }
      ]
    },
    {
      "cell_type": "code",
      "source": [
        "\"\"\"data = {'MLP WITHOUT NOVALTY FOR N':auc_score2, 'MLP NOVALTY FOR N': auc_score1, 'SVM FOR N':auc_score3,\n",
        "        'Decision tree FOR N':auc_score4}\n",
        "auc = list(data.keys())\n",
        "values = list(data.values())\n",
        "  \n",
        "fig = plt.figure(figsize = (10, 5))\n",
        " \n",
        "# creating the bar plot\n",
        "plt.bar(auc, values, color ='maroon',\n",
        "        width = 0.4)\n",
        " \n",
        "plt.xlabel(\"False Positive Rate\")\n",
        "plt.ylabel(\"True Positive rate\")\n",
        "plt.title(\"Comparision graph \")\n",
        "plt.show()\n",
        "\"\"\""
      ],
      "metadata": {
        "id": "esRUJR3UN3qq",
        "colab": {
          "base_uri": "https://localhost:8080/",
          "height": 87
        },
        "outputId": "789abcb8-7e35-4854-aec3-fb246afc4490"
      },
      "execution_count": 81,
      "outputs": [
        {
          "output_type": "execute_result",
          "data": {
            "text/plain": [
              "'data = {\\'MLP WITHOUT NOVALTY FOR N\\':auc_score2, \\'MLP NOVALTY FOR N\\': auc_score1, \\'SVM FOR N\\':auc_score3,\\n        \\'Decision tree FOR N\\':auc_score4}\\nauc = list(data.keys())\\nvalues = list(data.values())\\n  \\nfig = plt.figure(figsize = (10, 5))\\n \\n# creating the bar plot\\nplt.bar(auc, values, color =\\'maroon\\',\\n        width = 0.4)\\n \\nplt.xlabel(\"False Positive Rate\")\\nplt.ylabel(\"True Positive rate\")\\nplt.title(\"Comparision graph \")\\nplt.show()\\n'"
            ],
            "application/vnd.google.colaboratory.intrinsic+json": {
              "type": "string"
            }
          },
          "metadata": {},
          "execution_count": 81
        }
      ]
    },
    {
      "cell_type": "code",
      "source": [
        "data = {'Accuracy for MLP without Novalty-N ':MLP_N_rs, 'Accuracy for SVM -N':Acc_SVM_N,\n",
        "        'Accuracy for Decision tree -N':Acc_DC_N}\n",
        "auc = list(data.keys())\n",
        "values = list(data.values())\n",
        "  \n",
        "fig = plt.figure(figsize = (12, 10))\n",
        " \n",
        "# creating the bar plot\n",
        "plt.bar(auc, values, color ='BLUE',\n",
        "        width = 0.4)\n",
        " \n",
        "plt.xlabel(\"Accuracy for N\")\n",
        "plt.ylabel(\"Predicted Value in percentage\")\n",
        "plt.title(\"Comparision graph for N \")\n",
        "plt.show()"
      ],
      "metadata": {
        "colab": {
          "base_uri": "https://localhost:8080/",
          "height": 621
        },
        "id": "p1KS0WaLRjwY",
        "outputId": "d0aef502-46bc-4463-e962-7bac7d28e676"
      },
      "execution_count": 82,
      "outputs": [
        {
          "output_type": "display_data",
          "data": {
            "text/plain": [
              "<Figure size 864x720 with 1 Axes>"
            ],
            "image/png": "[encoded data removed]"
          },
          "metadata": {
            "needs_background": "light"
          }
        }
      ]
    },
    {
      "cell_type": "code",
      "source": [
        "data = {'Accuracy for MLP without Novalty-P ':MLP_P_rs, 'Accuracy for SVM-P':Acc_SVM_P,\n",
        "        'Accuracy for Decision tree- P':Acc_DC_P}\n",
        "auc = list(data.keys())\n",
        "values = list(data.values())\n",
        "  \n",
        "fig = plt.figure(figsize = (12, 10))\n",
        " \n",
        "# creating the bar plot\n",
        "plt.bar(auc, values, color ='RED',\n",
        "        width = 0.4)\n",
        " \n",
        "plt.xlabel(\"Accuracy for P\")\n",
        "plt.ylabel(\"Predicted Value in percentage\")\n",
        "plt.title(\"Comparision graph for P \")\n",
        "plt.show()"
      ],
      "metadata": {
        "colab": {
          "base_uri": "https://localhost:8080/",
          "height": 621
        },
        "id": "5s4IRypGRkGr",
        "outputId": "172e1cc5-d596-4ed8-f4e3-f93ae392096c"
      },
      "execution_count": 83,
      "outputs": [
        {
          "output_type": "display_data",
          "data": {
            "text/plain": [
              "<Figure size 864x720 with 1 Axes>"
            ],
            "image/png": "[encoded data removed]"
          },
          "metadata": {
            "needs_background": "light"
          }
        }
      ]
    },
    {
      "cell_type": "code",
      "source": [
        "data = {'Accuracy for MLP without Novalty-K ':MLP_K_rs, 'Accuracy for SVM-K':Acc_SVM_K,\n",
        "        'Accuracy for Decision tree- K':Acc_DC_K}\n",
        "auc = list(data.keys())\n",
        "values = list(data.values())\n",
        "  \n",
        "fig = plt.figure(figsize = (12, 10))\n",
        " \n",
        "# creating the bar plot\n",
        "plt.bar(auc, values, color ='GREEN',\n",
        "        width = 0.4)\n",
        " \n",
        "plt.xlabel(\"Accuracy for K\")\n",
        "plt.ylabel(\"Predicted Value in percentage\")\n",
        "plt.title(\"Comparision graph for K \")\n",
        "plt.show()"
      ],
      "metadata": {
        "colab": {
          "base_uri": "https://localhost:8080/",
          "height": 621
        },
        "id": "MfPPWf3lRkWJ",
        "outputId": "7e1ef136-35ef-4ccb-8917-677a51ff4600"
      },
      "execution_count": 84,
      "outputs": [
        {
          "output_type": "display_data",
          "data": {
            "text/plain": [
              "<Figure size 864x720 with 1 Axes>"
            ],
            "image/png": "[encoded data removed]"
          },
          "metadata": {
            "needs_background": "light"
          }
        }
      ]
    }
  ]
}